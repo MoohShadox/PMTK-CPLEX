{
 "cells": [
  {
   "cell_type": "code",
   "execution_count": 21,
   "id": "f7f08228-21fe-4ea9-871f-a8b1c538867c",
   "metadata": {},
   "outputs": [],
   "source": [
    "from docplex.mp.model import Model\n",
    "from docplex.util.environment import get_environment\n",
    "from PMTK.sampling.preferences_sampler import *\n",
    "from PMTK.pref.preferences import *\n",
    "from PMTK.utility.utility_solver import *\n",
    "from PMTK.sampling.subset_samplers import *\n",
    "from PMTK.utility.model_solver import *\n",
    "from tqdm import tqdm\n",
    "import numpy as np\n",
    "import pandas as pd\n",
    "from PMTK.utility.candidate_iterator import *\n",
    "from PMTK.sampling.gibbs import *"
   ]
  },
  {
   "cell_type": "code",
   "execution_count": 41,
   "id": "29b2bad2-ecd7-4a2b-b2a8-374cec192b56",
   "metadata": {},
   "outputs": [
    {
     "data": {
      "text/plain": [
       "[<matplotlib.lines.Line2D at 0x7fdce57d2050>]"
      ]
     },
     "execution_count": 41,
     "metadata": {},
     "output_type": "execute_result"
    },
    {
     "data": {
      "image/png": "[encoded data removed]",
      "text/plain": [
       "<Figure size 432x288 with 1 Axes>"
      ]
     },
     "metadata": {
      "needs_background": "light"
     },
     "output_type": "display_data"
    }
   ],
   "source": [
    "X = np.arange(0, 8)\n",
    "y =  -X + 5\n",
    "plt.plot(X, y)\n",
    "plt.plot(np.zeros(y.shape) + 3, np.linspace(y.min(), y.max(), y.shape[0]))\n",
    "plt.plot(X, np.zeros(y.shape))\n",
    "plt.plot(np.zeros(y.shape), y)"
   ]
  },
  {
   "cell_type": "code",
   "execution_count": 108,
   "id": "c99c196f-3232-480b-8f87-e7b95021c44a",
   "metadata": {},
   "outputs": [],
   "source": [
    "mdl = Model(\"Test\")\n",
    "x = mdl.continuous_var(name = \"x\")\n",
    "y = mdl.continuous_var(name = \"y\")\n",
    "\n",
    "cst = []\n",
    "c = mdl.add_constraint(y + x <= 5)\n",
    "c = mdl.add_constraint(x >= 0)\n",
    "c = mdl.add_constraint(x <= 3)\n",
    "c = mdl.add_constraint(y >= 0)\n",
    "mdl.vars = {\"x\":x, \"y\":y}\n"
   ]
  },
  {
   "cell_type": "code",
   "execution_count": null,
   "id": "0fdde053-fb36-43df-80b6-bf192aea64a5",
   "metadata": {},
   "outputs": [],
   "source": []
  },
  {
   "cell_type": "code",
   "execution_count": 162,
   "id": "e4482e72-f6e5-4005-a3ea-dfa75d924f81",
   "metadata": {},
   "outputs": [],
   "source": [
    "def get_random_ext_points(mdl, mdl_vars, n_tryouts = 100):\n",
    "    var_names = list(mdl.vars.keys())\n",
    "    var_v = list(mdl.vars.values())\n",
    "    points = []\n",
    "    for _ in range(n_tryouts):\n",
    "        coeffs = np.random.normal(0,100,len(var_names))\n",
    "        mdl.maximize(sum(coeffs * var_v))\n",
    "        mdl.solve()\n",
    "        pt = {n:v.solution_value for v,n in zip(var_v, var_names)}\n",
    "        if not pt in points:\n",
    "            points.append(pt)\n",
    "    return points\n",
    "\n",
    "def sample_from_ext_pt(ext_pts):\n",
    "    vals = np.array([np.array(list(e.values())) for e in ext_pts])\n",
    "    coeffs = np.random.rand(vals.shape[0])\n",
    "    coeffs = coeffs / coeffs.sum()\n",
    "    return (vals.T @ coeffs)\n",
    "    \n",
    "def get_random_direction(mdl_vars):\n",
    "    var_v = list(mdl.vars.values())\n",
    "    coeffs = np.random.normal(0,1,len(var_names))\n",
    "    coeffs = coeffs / coeffs.sum()\n",
    "    return sum([c*v for c,v in zip(coeffs, var_v)])\n",
    "\n",
    "def step_hit_and_run(mdl, mdl_vars, init_points):\n",
    "    t = get_random_direction(mdl_vars)\n",
    "    \n",
    "    pass\n",
    "    \n",
    "def get_center(ext_pts):\n",
    "    vals = np.array([np.array(list(e.values())) for e in ext_pts])\n",
    "    coeffs = np.ones(vals.shape[0])\n",
    "    coeffs = coeffs / coeffs.sum()\n",
    "    print(coeffs.shape)\n",
    "    print(vals.T @ coeffs)"
   ]
  },
  {
   "cell_type": "code",
   "execution_count": 163,
   "id": "6a6bbf9a-fa16-4034-957f-9b485c4fa5c5",
   "metadata": {},
   "outputs": [
    {
     "name": "stdout",
     "output_type": "stream",
     "text": [
      "(4,)\n",
      "[1.5  1.75]\n"
     ]
    }
   ],
   "source": [
    "ep = get_random_ext_points(mdl, mdl.vars)\n",
    "get_center(ep)"
   ]
  },
  {
   "cell_type": "code",
   "execution_count": 164,
   "id": "74383389-3ca5-45c3-b950-17790f8e6522",
   "metadata": {},
   "outputs": [
    {
     "data": {
      "text/plain": [
       "docplex.mp.LinearExpr(-0.324x+1.324y)"
      ]
     },
     "execution_count": 164,
     "metadata": {},
     "output_type": "execute_result"
    }
   ],
   "source": [
    "get_random_direction(mdl.vars)"
   ]
  },
  {
   "cell_type": "code",
   "execution_count": null,
   "id": "43d84298-83e7-48f0-9599-38eaa8a94eea",
   "metadata": {},
   "outputs": [],
   "source": []
  }
 ],
 "metadata": {
  "kernelspec": {
   "display_name": "Python 3.7",
   "language": "python",
   "name": "py37"
  },
  "language_info": {
   "codemirror_mode": {
    "name": "ipython",
    "version": 3
   },
   "file_extension": ".py",
   "mimetype": "text/x-python",
   "name": "python",
   "nbconvert_exporter": "python",
   "pygments_lexer": "ipython3",
   "version": "3.7.12"
  }
 },
 "nbformat": 4,
 "nbformat_minor": 5
}
