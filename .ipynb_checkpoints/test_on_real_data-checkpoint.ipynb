{
 "cells": [
  {
   "cell_type": "code",
   "execution_count": 1,
   "id": "4a37af02-36fa-498f-a722-a42040da40de",
   "metadata": {},
   "outputs": [],
   "source": [
    "import pandas as pd\n",
    "import numpy as np\n",
    "from collections import Counter\n",
    "from PMTK.sampling.preferences_sampler import *\n",
    "from PMTK.pref.preferences import *\n",
    "from PMTK.utility.utility_solver import *\n",
    "from PMTK.sampling.subset_samplers import *\n",
    "from PMTK.utility.model_solver import *\n",
    "from PMTK.utility.subset_finder import *\n",
    "from PMTK.sampling.gibbs import *\n",
    "from PMTK.data.film_dataset import *\n",
    "from PMTK.sampling.decider import *\n",
    "from PMTK.utility.heuristics import * \n",
    "from surprise import SVD\n",
    "from surprise import Dataset\n",
    "from surprise.model_selection import cross_validate\n"
   ]
  },
  {
   "cell_type": "code",
   "execution_count": 2,
   "id": "8e79e848-19b0-4beb-a6a7-a1736a0ac714",
   "metadata": {
    "scrolled": true,
    "tags": []
   },
   "outputs": [],
   "source": [
    "n_users = 10\n",
    "n_films = 50\n",
    "fd = Film_Dataset(n_films,n_users + 1)\n",
    "prf = fd.get_preferences_items(n_users + 1)\n",
    "t_heuristic = build_approx_theta(prf, [EMPTY_SET])"
   ]
  },
  {
   "cell_type": "code",
   "execution_count": 3,
   "id": "4dbd8feb-de1d-445a-9814-bd12444407ad",
   "metadata": {},
   "outputs": [],
   "source": [
    "t_mins = get_kernels_lex3(prf,t_heuristic)"
   ]
  },
  {
   "cell_type": "code",
   "execution_count": 17,
   "id": "d983295d-596a-4542-ad98-c3da7cc8225b",
   "metadata": {},
   "outputs": [],
   "source": [
    "class Simple_DM:\n",
    "    \n",
    "    def __init__(self, items):\n",
    "        self.alternatives = []\n",
    "        self.rates = []\n",
    "        self.items = items\n",
    "    \n",
    "    def rate_alternative(self, alt, rate):\n",
    "        if alt in self.alternatives:\n",
    "            i = self.alternatives.index(alt)\n",
    "            self.alternatives.remove(alt)\n",
    "            self.rates.remove(self.rates[i])\n",
    "        self.alternatives.append(alt)\n",
    "        self.rates.append(rate)\n",
    "        \n",
    "    \n",
    "    def rate_binary_alternative(self, b_alternative, rate):\n",
    "        alt = tuple(np.where(b_alternative == 1)[0])\n",
    "        if alt in self.alternatives:\n",
    "            i = self.alternatives.index(alt)\n",
    "            self.alternatives.remove(alt)\n",
    "            self.rates.remove(self.rates[i])\n",
    "            \n",
    "        self.alternatives.append(alt)\n",
    "        self.rates.append(rate)\n",
    "        \n",
    "    def preferences(self):\n",
    "        prf = Preferences(self.items)\n",
    "        for alt_1, r_1 in zip(self.alternatives, self.rates):\n",
    "            for alt_2, r_2 in zip(self.alternatives, self.rates):\n",
    "                if r_1 > r_2:\n",
    "                    prf.add_preference(alt_1, alt_2)\n",
    "        return prf"
   ]
  },
  {
   "cell_type": "code",
   "execution_count": 5,
   "id": "f921396c-044a-447a-9b38-fc8e4b191a9e",
   "metadata": {},
   "outputs": [],
   "source": [
    "def rates_to_binary(rates_matrix, targeted_user, rate_encoder):\n",
    "    X = np.hstack([rates_matrix[:, :targeted_user], rates_matrix[:, targeted_user+1:]])\n",
    "    rates = rates_matrix[:, targeted_user]\n",
    "    encoded_mat = []\n",
    "    for v in X:\n",
    "        L = []\n",
    "        for i in v:\n",
    "            r_e = rate_encoder(i)\n",
    "            if r_e != None:\n",
    "                L = L + rate_encoder(i)\n",
    "        L = np.array(L)\n",
    "        encoded_mat.append(L)\n",
    "    encoded_mat = np.array(encoded_mat)\n",
    "    pos = np.where(rates != -1)[0]\n",
    "    rates = rates[pos]\n",
    "    encoded_mat = encoded_mat[pos, :]\n",
    "    return encoded_mat, rates"
   ]
  },
  {
   "cell_type": "code",
   "execution_count": 6,
   "id": "f8b2545a-7fa7-4862-96ab-1a975752232f",
   "metadata": {},
   "outputs": [],
   "source": [
    "def rates_enc(x):\n",
    "    if x == -1:\n",
    "        return [0,0]\n",
    "    if x <= 3 and x >= 2:\n",
    "        return [0,0]\n",
    "    if x > 3:\n",
    "        return [1,1]\n",
    "    if x < 2:\n",
    "        return [1,0]\n",
    "    return None"
   ]
  },
  {
   "cell_type": "code",
   "execution_count": 7,
   "id": "20b15d83-aee2-478d-ad7d-20986e857443",
   "metadata": {},
   "outputs": [],
   "source": [
    "def get_rates_matrix(f_path, n_users, n_films, targeted_user):\n",
    "    df = pd.read_csv(f_path)\n",
    "    \n",
    "    u_df = pd.read_csv(f_path)\n",
    "    u_df = u_df.groupby(\"userId\").count().reset_index()\n",
    "    count_u = {u:m for u,m in zip(u_df[\"userId\"], u_df[\"movieId\"])}\n",
    "    \n",
    "    m_df = pd.read_csv(f_path)\n",
    "    m_df = m_df.groupby(\"movieId\").count().reset_index()\n",
    "    count_m = {u:m for u,m in zip(m_df[\"userId\"], m_df[\"movieId\"])}\n",
    "    \n",
    "    count_u = {i:j for i,j in sorted(count_u.items(), key = lambda x:x[1], reverse= True)}\n",
    "    count_m = {i:j for i,j in sorted(count_m.items(), key = lambda x:x[1], reverse= True)}\n",
    "    \n",
    "    users_id = list(count_u.keys())[:n_users]\n",
    "    films_id = list(count_m.keys())[:n_films]\n",
    "\n",
    "    rates_matrix = np.zeros((len(films_id), len(users_id)))\n",
    "    for u in users_id:\n",
    "        for f in films_id:\n",
    "            x = df[(df.movieId == f) & (df.userId == u)]\n",
    "            if x.shape[0] == 0:\n",
    "                rates_matrix[films_id.index(f), users_id.index(u)] = -1\n",
    "            else:\n",
    "                rates_matrix[films_id.index(f), users_id.index(u)] = x[\"rating\"].values[0]\n",
    "                \n",
    "    return rates_matrix"
   ]
  },
  {
   "cell_type": "code",
   "execution_count": 8,
   "id": "8bbd8710-619d-42a4-a36e-5c7f9a9611c7",
   "metadata": {},
   "outputs": [],
   "source": [
    "def get_rates_matrix(f_path, targeted_user, bound_films = 50, bound_users = 5):\n",
    "    df = pd.read_csv(f_path)\n",
    "    \n",
    "    u_df = pd.read_csv(f_path)\n",
    "    u_df = u_df[u_df.rating > 0].groupby(\"userId\").count().reset_index()\n",
    "    count_u = {u:m for u,m in zip(u_df[\"userId\"], u_df[\"movieId\"])}\n",
    "    count_u = {i:j for i,j in sorted(count_u.items(), key = lambda x:x[1], reverse= True)}\n",
    "    targeted_id = list(count_u.keys())[targeted_user]\n",
    "    \n",
    "    \n",
    "    target_df = df[df.userId == targeted_id]\n",
    "\n",
    "    \n",
    "    m_df = df[df.movieId.isin(target_df.movieId)].groupby(\"movieId\").count().reset_index()\n",
    "    count_m = {m:u for u,m in zip(m_df[\"userId\"], m_df[\"movieId\"])}\n",
    "    count_m = {i:j for i,j in sorted(count_m.items(), key = lambda x:x[1], reverse= True)}\n",
    "    films_id = list(count_m.keys())[:bound_films]\n",
    "    #print(count_m)\n",
    "    \n",
    "    user_df = df[df.movieId.isin(films_id)]\n",
    "    user_df = user_df.groupby(\"userId\").count().reset_index()\n",
    "    count_u = {u:m for u,m in zip(user_df[\"userId\"], user_df[\"movieId\"])}\n",
    "    count_u = {i:j for i,j in sorted(count_u.items(), key = lambda x:x[1], reverse= True)}\n",
    "    users_id = list(count_u.keys())[:bound_users]\n",
    "    if targeted_id in users_id:\n",
    "        users_id = list(count_u.keys())[:bound_users+1]\n",
    "        users_id.remove(targeted_id)\n",
    "    users_id = [targeted_id] + users_id\n",
    "    \n",
    "    print(users_id)\n",
    "    print(films_id)\n",
    "\n",
    "    \n",
    "    rates_matrix = np.zeros((len(films_id), len(users_id))) + 188\n",
    "    for u in users_id:\n",
    "        for f in films_id:\n",
    "            x = df[(df.movieId == f) & (df.userId == u)]\n",
    "            if x.shape[0] == 0:\n",
    "                rates_matrix[films_id.index(f), users_id.index(u)] = -1\n",
    "            else:\n",
    "                rates_matrix[films_id.index(f), users_id.index(u)] = x[\"rating\"].values[0]\n",
    "    \n",
    "                \n",
    "    return rates_matrix"
   ]
  },
  {
   "cell_type": "code",
   "execution_count": 9,
   "id": "7a7707c7-2a89-455f-8000-e2ec2de2d938",
   "metadata": {},
   "outputs": [
    {
     "name": "stdout",
     "output_type": "stream",
     "text": [
      "[599, 414, 68, 274, 483, 590]\n",
      "[356, 318, 296, 593, 2571, 260, 480, 110, 589, 2959, 1, 1196, 50, 2858, 47, 780, 150, 1198, 4993, 1210, 858, 457, 592, 2028, 5952, 7153, 588, 608, 2762, 380, 32, 364, 377, 1270, 3578, 4306, 1580, 648, 344, 4226, 367, 6539, 58559, 595, 1214, 1036, 165, 500, 1265, 79132]\n"
     ]
    }
   ],
   "source": [
    "rates_mat = get_rates_matrix(\"data/ratings.csv\", 1)"
   ]
  },
  {
   "cell_type": "code",
   "execution_count": 10,
   "id": "f7867e59-c126-4289-809b-8f99b37066a1",
   "metadata": {},
   "outputs": [
    {
     "data": {
      "text/plain": [
       "array([[ 3.5,  5. ,  3.5,  4.5,  5. ,  5. ],\n",
       "       [ 4. ,  5. ,  3. ,  4.5,  5. ,  4.5],\n",
       "       [ 5. ,  5. ,  2. ,  5. ,  5. ,  4.5],\n",
       "       [ 3. ,  4. ,  3.5,  4. , -1. ,  3.5],\n",
       "       [ 5. ,  5. ,  4.5,  4. ,  4.5,  4. ],\n",
       "       [ 5. ,  5. ,  5. ,  3. ,  4.5,  5. ],\n",
       "       [ 4. ,  4. ,  3.5,  3.5,  4. ,  4. ],\n",
       "       [ 3.5,  5. ,  2.5,  4.5,  4. ,  4. ],\n",
       "       [ 4.5,  5. ,  3.5,  4.5,  4. ,  4.5],\n",
       "       [ 5. ,  5. ,  2.5,  5. ,  4.5,  3.5],\n",
       "       [ 3. ,  4. ,  2.5,  4. ,  4. ,  4. ],\n",
       "       [ 5. ,  5. ,  5. ,  4.5,  4.5,  5. ],\n",
       "       [ 3.5,  5. ,  3. ,  4. ,  4.5,  4.5],\n",
       "       [ 5. ,  5. ,  5. ,  5. ,  4. ,  3. ],\n",
       "       [ 4. ,  4. ,  4. ,  4. ,  3.5,  3. ],\n",
       "       [ 3.5,  4. ,  4. ,  3.5,  3. ,  4. ],\n",
       "       [ 2.5,  4. ,  3. , -1. ,  2. ,  4.5],\n",
       "       [ 3.5,  5. ,  5. ,  4. ,  4. ,  5. ],\n",
       "       [ 4. ,  5. ,  4.5,  3. ,  4.5,  4.5],\n",
       "       [ 5. ,  5. ,  5. ,  4. ,  4.5,  4.5],\n",
       "       [ 4. ,  5. ,  4. ,  3.5,  4. ,  5. ],\n",
       "       [ 3. ,  5. ,  4.5,  3.5,  2.5,  4. ],\n",
       "       [ 3.5,  4. ,  4. ,  3. ,  3.5,  3.5],\n",
       "       [ 3.5,  5. ,  4. ,  4. ,  4. ,  4. ],\n",
       "       [ 3. ,  5. ,  4. ,  3.5,  4.5,  5. ],\n",
       "       [ 3. ,  4. ,  4.5,  3. ,  4. ,  4.5],\n",
       "       [ 3. ,  4. ,  3.5,  4. ,  4. ,  4. ],\n",
       "       [ 3.5,  5. ,  2.5,  3. ,  4. ,  4. ],\n",
       "       [ 3.5,  3. ,  2.5,  4. ,  3.5,  3.5],\n",
       "       [ 3. ,  4. ,  3.5,  4. ,  4. ,  3. ],\n",
       "       [ 3. ,  5. , -1. ,  4. ,  5. ,  3. ],\n",
       "       [ 3. ,  4. ,  4.5,  4. ,  4. ,  4.5],\n",
       "       [ 3. ,  4. ,  5. ,  3.5,  1.5,  3. ],\n",
       "       [ 3.5,  5. ,  3. ,  3.5,  4.5,  4.5],\n",
       "       [ 3.5,  5. ,  4. ,  3.5,  3.5,  4.5],\n",
       "       [ 2.5,  4. ,  5. ,  3.5,  4. ,  4. ],\n",
       "       [ 3. ,  4. ,  4. ,  3. ,  2. ,  3.5],\n",
       "       [ 3. ,  4. ,  4. ,  3.5,  2. ,  3.5],\n",
       "       [ 2.5,  2. ,  2.5,  4.5,  4. ,  3. ],\n",
       "       [ 4.5,  5. ,  4. ,  4.5,  4. ,  3.5],\n",
       "       [ 3. ,  4. ,  3. ,  4. ,  3. ,  3. ],\n",
       "       [ 2.5,  4.5,  5. ,  4. ,  4. ,  4. ],\n",
       "       [ 3.5,  4. ,  5. ,  4.5,  4. ,  4.5],\n",
       "       [ 3.5,  3. ,  4.5,  3. ,  3.5,  4.5],\n",
       "       [ 5. ,  5. ,  2. ,  4. ,  4. ,  4.5],\n",
       "       [ 4. ,  5. ,  3. ,  4. ,  3.5,  4. ],\n",
       "       [ 3. ,  3. ,  3.5,  4. ,  4.5,  3. ],\n",
       "       [ 3. ,  3. ,  3. ,  3. ,  3.5,  2.5],\n",
       "       [ 4. ,  4. ,  2.5,  4.5,  5. ,  4. ],\n",
       "       [ 3. ,  5. ,  5. ,  5. ,  5. , -1. ]])"
      ]
     },
     "execution_count": 10,
     "metadata": {},
     "output_type": "execute_result"
    }
   ],
   "source": [
    "rates_mat"
   ]
  },
  {
   "cell_type": "code",
   "execution_count": 13,
   "id": "3d022d76-d1e4-4ef7-9aa0-bd9657e21698",
   "metadata": {},
   "outputs": [],
   "source": [
    "b_mat, rates = rates_to_binary(rates_mat, 0, rates_enc)"
   ]
  },
  {
   "cell_type": "code",
   "execution_count": 18,
   "id": "91e336b1-6b05-4239-add4-d41fe407d399",
   "metadata": {},
   "outputs": [],
   "source": [
    "SDM = Simple_DM(np.arange(b_mat.shape[1]))"
   ]
  },
  {
   "cell_type": "code",
   "execution_count": 19,
   "id": "581e18e3-0991-459f-8e5a-f4c00df990e3",
   "metadata": {},
   "outputs": [],
   "source": [
    "for b_v, r in zip(b_mat, rates):\n",
    "    SDM.rate_binary_alternative(b_v, r)"
   ]
  },
  {
   "cell_type": "code",
   "execution_count": 20,
   "id": "50913144-a7ab-4292-b68f-25a8997d6249",
   "metadata": {},
   "outputs": [
    {
     "ename": "NameError",
     "evalue": "name 'TypeException' is not defined",
     "output_type": "error",
     "traceback": [
      "\u001b[0;31m---------------------------------------------------------------------------\u001b[0m",
      "\u001b[0;31mTypeError\u001b[0m                                 Traceback (most recent call last)",
      "File \u001b[0;32m~/Bureau/Projects/PMTK-CPLEX/PMTK/pref/preferences.py:259\u001b[0m, in \u001b[0;36mPreferences.__add_subsets\u001b[0;34m(self, subset)\u001b[0m\n\u001b[1;32m    258\u001b[0m subset \u001b[38;5;241m=\u001b[39m [i \u001b[38;5;28;01mfor\u001b[39;00m i \u001b[38;5;129;01min\u001b[39;00m subset \u001b[38;5;28;01mif\u001b[39;00m i \u001b[38;5;129;01min\u001b[39;00m \u001b[38;5;28mself\u001b[39m\u001b[38;5;241m.\u001b[39mitems]\n\u001b[0;32m--> 259\u001b[0m subset \u001b[38;5;241m=\u001b[39m \u001b[38;5;28mtuple\u001b[39m(\u001b[38;5;28msorted\u001b[39m(\u001b[38;5;28;43mset\u001b[39;49m\u001b[43m(\u001b[49m\u001b[43msubset\u001b[49m\u001b[43m)\u001b[49m))\n\u001b[1;32m    260\u001b[0m \u001b[38;5;28;01mif\u001b[39;00m subset \u001b[38;5;129;01mnot\u001b[39;00m \u001b[38;5;129;01min\u001b[39;00m \u001b[38;5;28mself\u001b[39m\u001b[38;5;241m.\u001b[39msubsets:\n",
      "\u001b[0;31mTypeError\u001b[0m: unhashable type: 'list'",
      "\nDuring handling of the above exception, another exception occurred:\n",
      "\u001b[0;31mNameError\u001b[0m                                 Traceback (most recent call last)",
      "Input \u001b[0;32mIn [20]\u001b[0m, in \u001b[0;36m<cell line: 1>\u001b[0;34m()\u001b[0m\n\u001b[0;32m----> 1\u001b[0m \u001b[43mSDM\u001b[49m\u001b[38;5;241;43m.\u001b[39;49m\u001b[43mpreferences\u001b[49m\u001b[43m(\u001b[49m\u001b[43m)\u001b[49m\n",
      "Input \u001b[0;32mIn [17]\u001b[0m, in \u001b[0;36mSimple_DM.preferences\u001b[0;34m(self)\u001b[0m\n\u001b[1;32m     30\u001b[0m     \u001b[38;5;28;01mfor\u001b[39;00m alt_2, r_2 \u001b[38;5;129;01min\u001b[39;00m \u001b[38;5;28mzip\u001b[39m(\u001b[38;5;28mself\u001b[39m\u001b[38;5;241m.\u001b[39malternatives, \u001b[38;5;28mself\u001b[39m\u001b[38;5;241m.\u001b[39mrates):\n\u001b[1;32m     31\u001b[0m         \u001b[38;5;28;01mif\u001b[39;00m r_1 \u001b[38;5;241m>\u001b[39m r_2:\n\u001b[0;32m---> 32\u001b[0m             \u001b[43mprf\u001b[49m\u001b[38;5;241;43m.\u001b[39;49m\u001b[43madd_preference\u001b[49m\u001b[43m(\u001b[49m\u001b[43malt_1\u001b[49m\u001b[43m,\u001b[49m\u001b[43m \u001b[49m\u001b[43malt_2\u001b[49m\u001b[43m)\u001b[49m\n\u001b[1;32m     33\u001b[0m \u001b[38;5;28;01mreturn\u001b[39;00m prf\n",
      "File \u001b[0;32m~/Bureau/Projects/PMTK-CPLEX/PMTK/pref/preferences.py:271\u001b[0m, in \u001b[0;36mPreferences.add_preference\u001b[0;34m(self, s_1, s_2)\u001b[0m\n\u001b[1;32m    267\u001b[0m \u001b[38;5;28;01mdef\u001b[39;00m \u001b[38;5;21madd_preference\u001b[39m(\u001b[38;5;28mself\u001b[39m, s_1, s_2):\n\u001b[1;32m    268\u001b[0m     \u001b[38;5;124;03m\"\"\"\u001b[39;00m\n\u001b[1;32m    269\u001b[0m \u001b[38;5;124;03m    Create a strict preference between x and y.\u001b[39;00m\n\u001b[1;32m    270\u001b[0m \u001b[38;5;124;03m    \"\"\"\u001b[39;00m\n\u001b[0;32m--> 271\u001b[0m     s_1 \u001b[38;5;241m=\u001b[39m \u001b[38;5;28;43mself\u001b[39;49m\u001b[38;5;241;43m.\u001b[39;49m\u001b[43m__add_subsets\u001b[49m\u001b[43m(\u001b[49m\u001b[43ms_1\u001b[49m\u001b[43m)\u001b[49m\n\u001b[1;32m    272\u001b[0m     s_2 \u001b[38;5;241m=\u001b[39m \u001b[38;5;28mself\u001b[39m\u001b[38;5;241m.\u001b[39m__add_subsets(s_2)\n\u001b[1;32m    273\u001b[0m     t_1 \u001b[38;5;241m=\u001b[39m [s_1, s_2]\n",
      "File \u001b[0;32m~/Bureau/Projects/PMTK-CPLEX/PMTK/pref/preferences.py:263\u001b[0m, in \u001b[0;36mPreferences.__add_subsets\u001b[0;34m(self, subset)\u001b[0m\n\u001b[1;32m    261\u001b[0m         \u001b[38;5;28mself\u001b[39m\u001b[38;5;241m.\u001b[39msubsets\u001b[38;5;241m.\u001b[39mappend(subset)\n\u001b[1;32m    262\u001b[0m     \u001b[38;5;28;01mreturn\u001b[39;00m subset\n\u001b[0;32m--> 263\u001b[0m \u001b[38;5;28;01mexcept\u001b[39;00m \u001b[43mTypeException\u001b[49m:\n\u001b[1;32m    264\u001b[0m     \u001b[38;5;28mprint\u001b[39m(\u001b[38;5;124mf\u001b[39m\u001b[38;5;124m\"\u001b[39m\u001b[38;5;124mException because of the type of \u001b[39m\u001b[38;5;132;01m{\u001b[39;00msubset\u001b[38;5;132;01m}\u001b[39;00m\u001b[38;5;124m\"\u001b[39m)\n\u001b[1;32m    265\u001b[0m     \u001b[38;5;28;01mraise\u001b[39;00m TypeException\n",
      "\u001b[0;31mNameError\u001b[0m: name 'TypeException' is not defined"
     ]
    }
   ],
   "source": [
    "SDM.preferences()"
   ]
  },
  {
   "cell_type": "code",
   "execution_count": null,
   "id": "fb15b3cc-34d7-4bd8-8235-2eeb482229f4",
   "metadata": {},
   "outputs": [],
   "source": []
  }
 ],
 "metadata": {
  "kernelspec": {
   "display_name": "Python 3 (ipykernel)",
   "language": "python",
   "name": "python3"
  },
  "language_info": {
   "codemirror_mode": {
    "name": "ipython",
    "version": 3
   },
   "file_extension": ".py",
   "mimetype": "text/x-python",
   "name": "python",
   "nbconvert_exporter": "python",
   "pygments_lexer": "ipython3",
   "version": "3.9.12"
  }
 },
 "nbformat": 4,
 "nbformat_minor": 5
}
