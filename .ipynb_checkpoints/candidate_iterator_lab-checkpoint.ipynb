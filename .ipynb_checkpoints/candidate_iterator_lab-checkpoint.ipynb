{
 "cells": [
  {
   "cell_type": "code",
   "execution_count": 1,
   "id": "4762490e-a26a-4300-804e-c4bce3b3ee04",
   "metadata": {},
   "outputs": [],
   "source": [
    "import pandas as pd\n",
    "import numpy as np\n",
    "from collections import Counter\n",
    "from PMTK.sampling.preferences_sampler import *\n",
    "from PMTK.pref.preferences import *\n",
    "from PMTK.utility.utility_solver import *\n",
    "from PMTK.sampling.subset_samplers import *\n",
    "from PMTK.utility.subset_finder import *\n",
    "from PMTK.sampling.gibbs import *\n",
    "from PMTK.data.film_dataset import *\n",
    "from PMTK.sampling.decider import *"
   ]
  },
  {
   "cell_type": "code",
   "execution_count": 2,
   "id": "b0f4b03e-fba9-4b4e-b9bd-587c67213a41",
   "metadata": {},
   "outputs": [],
   "source": [
    "def theta_better(theta_1, theta_2):\n",
    "    if additivity(theta_1) != additivity(theta_2):\n",
    "        return 1 if additivity(theta_1) < additivity(theta_2) else -1\n",
    "    else:\n",
    "        if len(theta_1) != len(theta_2):\n",
    "            return 1 if len(theta_1) < len(theta_2) else -1\n",
    "        else:\n",
    "            return 0\n",
    "        \n",
    "def additivity(theta):\n",
    "    return max([len(i) for i in theta])"
   ]
  },
  {
   "cell_type": "code",
   "execution_count": 11,
   "id": "32b89305-6cda-4806-8b7a-eeb69c2e58eb",
   "metadata": {},
   "outputs": [],
   "source": [
    "def get_candidate_iterator(c, bound = np.inf):\n",
    "    a = list(set([x[0] for x in c if len(x[0]) > 0] + [x[1] for x in c if len(x[1]) > 0]))\n",
    "    a = sorted(a, key = lambda x:len(x))\n",
    "    iterators = {}\n",
    "    for x in a:\n",
    "        for k in range(1,min(len(x)+1, bound)):\n",
    "            iterators[k] = iterators.get(k,[]) + [itertools.combinations(x, k)]\n",
    "    for k in iterators:\n",
    "        random.shuffle(iterators[k])\n",
    "    return iterators\n",
    "\n",
    "def dfs_thetas_r(preferences, theta, theta_mins = [], banned = [], bann_opt = True):\n",
    "    c = get_connivent(theta, preferences)\n",
    "    print(\"Theta = \", theta, end = \"\\t\")\n",
    "    print(\"c = \", c, end = \"\\t\")\n",
    "    print(\"Banned = \", banned)\n",
    "    \n",
    "    if c == None:\n",
    "        kernels = [theta]\n",
    "        #kernels += get_kernels(prf, theta)\n",
    "        for theta in kernels:\n",
    "            if len(theta_mins) == 0:\n",
    "                theta_mins.append(theta)\n",
    "                return additivity(theta_mins[0]), len(theta_mins[0])\n",
    "            if theta_better(theta, theta_mins[0]) == 1:\n",
    "                theta_mins.clear()\n",
    "                theta_mins.append(theta)\n",
    "            elif theta_better(theta, theta_mins[0]) == 0:\n",
    "                theta_mins.append(theta)\n",
    "        return additivity(theta_mins[0]), len(theta_mins[0])\n",
    "    \n",
    "    its = get_candidate_iterator(c)\n",
    "    b = banned\n",
    "    for k in its:\n",
    "        for candidates in its[k]:\n",
    "            for c in candidates:\n",
    "                if c in theta or c in b:\n",
    "                    continue\n",
    "                if len(theta_mins) > 0 and k > additivity(theta_mins[0]):\n",
    "                    print(\"Cutting over\", k, \" in:\", theta , end = \" \")\n",
    "                    break\n",
    "                n_theta = theta + [c]\n",
    "                if len(theta_mins) > 0 and theta_better(n_theta, theta_mins[0]) == -1:\n",
    "                    print(\"Cutting\", c , \" in:\", theta, end = \" \")\n",
    "                    continue\n",
    "                print(\"Trying candidate \", c)\n",
    "                dfs_thetas_r(preferences, n_theta, theta_mins, banned = b)\n",
    "                b.append(c)\n",
    "    return True\n",
    "\n",
    "def get_min_thetas(preferences, initial_theta, bann_opt = True):\n",
    "    representant = None\n",
    "    theta_mins = []\n",
    "    stats = []\n",
    "    dfs_thetas_r(preferences, initial_theta, theta_mins = theta_mins, bann_opt = bann_opt, banned = [])\n",
    "    return theta_mins, stats\n"
   ]
  },
  {
   "cell_type": "markdown",
   "id": "970a2cac-9f34-4476-84e5-161b261ee1ba",
   "metadata": {
    "tags": []
   },
   "source": []
  },
  {
   "cell_type": "code",
   "execution_count": 21,
   "id": "d3988271-f38d-45e5-a05d-3f048dc7c7c9",
   "metadata": {},
   "outputs": [],
   "source": [
    "n_items = 6\n",
    "density = 0.3\n",
    "items = np.arange(n_items)\n",
    "prf = sample_preferences_from_order(items, density*(2**(n_items+1)), indifference_rate= 0)"
   ]
  },
  {
   "cell_type": "code",
   "execution_count": 24,
   "id": "26721106-4fce-4691-962f-a0b33477695c",
   "metadata": {},
   "outputs": [
    {
     "name": "stdout",
     "output_type": "stream",
     "text": [
      "Theta =  []\tc =  [((0,), ())]\tBanned =  []\n",
      "Trying candidate  (0,)\n",
      "Theta =  [(0,)]\tc =  [((3,), (0,)), ((0,), ())]\tBanned =  []\n",
      "Trying candidate  (3,)\n",
      "Theta =  [(0,), (3,)]\tc =  [((0, 2), (3,)), ((3,), (0,))]\tBanned =  []\n",
      "Trying candidate  (2,)\n",
      "Theta =  [(0,), (3,), (2,)]\tc =  [((4, 5), (0,)), ((0,), ())]\tBanned =  []\n",
      "Trying candidate  (4,)\n",
      "Theta =  [(0,), (3,), (2,), (4,)]\tc =  [((0, 2), (3,)), ((3,), (0,)), ((4, 5), (0,)), ((0,), (1, 2, 4))]\tBanned =  []\n",
      "Trying candidate  (1,)\n",
      "Theta =  [(0,), (3,), (2,), (4,), (1,)]\tc =  [((3,), (0, 3, 4, 5)), ((4, 5), (0,)), ((0,), ())]\tBanned =  []\n",
      "Trying candidate  (5,)\n",
      "Theta =  [(0,), (3,), (2,), (4,), (1,), (5,)]\tc =  [((3,), (0, 3, 4, 5)), ((4, 5), (0,)), ((0,), ())]\tBanned =  []\n",
      "Trying candidate  (4, 5)\n",
      "Theta =  [(0,), (3,), (2,), (4,), (1,), (5,), (4, 5)]\tc =  [((3,), (0, 3, 4, 5)), ((4, 5), (0,)), ((0,), ())]\tBanned =  []\n",
      "Trying candidate  (0, 3)\n",
      "Theta =  [(0,), (3,), (2,), (4,), (1,), (5,), (4, 5), (0, 3)]\tc =  [((3,), (4, 5)), ((4, 5), (0,)), ((0,), ()), ((0, 1, 2), (1, 2, 4)), ((1, 2, 4), (1, 2, 3, 4, 5))]\tBanned =  []\n",
      "Trying candidate  (1, 2)\n",
      "Theta =  [(0,), (3,), (2,), (4,), (1,), (5,), (4, 5), (0, 3), (1, 2)]\tc =  [((3,), (4, 5)), ((4, 5), (0,)), ((0,), ()), ((0, 1, 2), (1, 2, 4)), ((1, 2, 4), (1, 2, 3, 4, 5))]\tBanned =  []\n",
      "Trying candidate  (0, 1)\n",
      "Theta =  [(0,), (3,), (2,), (4,), (1,), (5,), (4, 5), (0, 3), (1, 2), (0, 1)]\tc =  [((3,), (4, 5)), ((0, 3, 4, 5), (4, 5)), ((4, 5), (0,)), ((0,), (0, 1, 2)), ((0, 1, 2), (1, 2, 4)), ((1, 2, 4), (0, 1, 2, 3, 4)), ((1, 2, 4), (1, 2, 3, 4, 5)), ((1, 2, 4), ())]\tBanned =  []\n",
      "Trying candidate  (1, 3)\n",
      "Theta =  [(0,), (3,), (2,), (4,), (1,), (5,), (4, 5), (0, 3), (1, 2), (0, 1), (1, 3)]\tc =  None\tBanned =  []\n",
      "Found =  [[(0,), (3,), (2,), (4,), (4, 5), (0, 3), (1, 2), (0, 1), (1, 3)]]\n",
      "Found =  [[(0,), (3,), (2,), (4,), (4, 5), (0, 3), (1, 2), (0, 1), (1, 3)], [(0,), (3,), (2,), (4,), (1,), (5,), (0, 3), (0, 1), (1, 3)]]\n",
      "Found =  [[(0,), (3,), (2,), (4,), (4, 5), (0, 3), (1, 2), (0, 1), (1, 3)], [(0,), (3,), (2,), (4,), (1,), (5,), (0, 3), (0, 1), (1, 3)], [(0,), (3,), (2,), (4,), (1,), (4, 5), (0, 3), (0, 1), (1, 3)]]\n",
      "Found =  [[(0,), (3,), (2,), (4,), (4, 5), (0, 3), (1, 2), (0, 1), (1, 3)], [(0,), (3,), (2,), (4,), (1,), (5,), (0, 3), (0, 1), (1, 3)], [(0,), (3,), (2,), (4,), (1,), (4, 5), (0, 3), (0, 1), (1, 3)], [(0,), (3,), (2,), (4,), (5,), (0, 3), (1, 2), (0, 1), (1, 3)]]\n",
      "Trying candidate  (1, 4)\n",
      "Theta =  [(0,), (3,), (2,), (4,), (1,), (5,), (4, 5), (0, 3), (1, 2), (0, 1), (1, 4)]\tc =  None\tBanned =  [(1, 3)]\n",
      "Found =  [[(0,), (3,), (2,), (4,), (5,), (0, 3), (0, 1), (1, 4)]]\n",
      "Found =  [[(0,), (3,), (2,), (4,), (5,), (0, 3), (0, 1), (1, 4)], [(0,), (3,), (2,), (4,), (4, 5), (0, 3), (0, 1), (1, 4)]]\n",
      "Cutting (1, 5)  in: [(0,), (3,), (2,), (4,), (1,), (5,), (4, 5), (0, 3), (1, 2), (0, 1)] Cutting (2, 3)  in: [(0,), (3,), (2,), (4,), (1,), (5,), (4, 5), (0, 3), (1, 2), (0, 1)] Cutting (2, 4)  in: [(0,), (3,), (2,), (4,), (1,), (5,), (4, 5), (0, 3), (1, 2), (0, 1)] Cutting (2, 5)  in: [(0,), (3,), (2,), (4,), (1,), (5,), (4, 5), (0, 3), (1, 2), (0, 1)] Cutting (3, 4)  in: [(0,), (3,), (2,), (4,), (1,), (5,), (4, 5), (0, 3), (1, 2), (0, 1)] Cutting (3, 5)  in: [(0,), (3,), (2,), (4,), (1,), (5,), (4, 5), (0, 3), (1, 2), (0, 1)] Cutting (0, 4)  in: [(0,), (3,), (2,), (4,), (1,), (5,), (4, 5), (0, 3), (1, 2), (0, 1)] Cutting (0, 5)  in: [(0,), (3,), (2,), (4,), (1,), (5,), (4, 5), (0, 3), (1, 2), (0, 1)] Cutting (3, 4)  in: [(0,), (3,), (2,), (4,), (1,), (5,), (4, 5), (0, 3), (1, 2), (0, 1)] Cutting (3, 5)  in: [(0,), (3,), (2,), (4,), (1,), (5,), (4, 5), (0, 3), (1, 2), (0, 1)] Cutting (0, 2)  in: [(0,), (3,), (2,), (4,), (1,), (5,), (4, 5), (0, 3), (1, 2), (0, 1)] Cutting (0, 4)  in: [(0,), (3,), (2,), (4,), (1,), (5,), (4, 5), (0, 3), (1, 2), (0, 1)] Cutting (2, 3)  in: [(0,), (3,), (2,), (4,), (1,), (5,), (4, 5), (0, 3), (1, 2), (0, 1)] Cutting (2, 4)  in: [(0,), (3,), (2,), (4,), (1,), (5,), (4, 5), (0, 3), (1, 2), (0, 1)] Cutting (3, 4)  in: [(0,), (3,), (2,), (4,), (1,), (5,), (4, 5), (0, 3), (1, 2), (0, 1)] Cutting (2, 4)  in: [(0,), (3,), (2,), (4,), (1,), (5,), (4, 5), (0, 3), (1, 2), (0, 1)] Cutting (0, 2)  in: [(0,), (3,), (2,), (4,), (1,), (5,), (4, 5), (0, 3), (1, 2), (0, 1)] Cutting over 3  in: [(0,), (3,), (2,), (4,), (1,), (5,), (4, 5), (0, 3), (1, 2), (0, 1)] Cutting over 3  in: [(0,), (3,), (2,), (4,), (1,), (5,), (4, 5), (0, 3), (1, 2), (0, 1)] Cutting over 3  in: [(0,), (3,), (2,), (4,), (1,), (5,), (4, 5), (0, 3), (1, 2), (0, 1)] Cutting over 3  in: [(0,), (3,), (2,), (4,), (1,), (5,), (4, 5), (0, 3), (1, 2), (0, 1)] Cutting over 3  in: [(0,), (3,), (2,), (4,), (1,), (5,), (4, 5), (0, 3), (1, 2), (0, 1)] Cutting over 4  in: [(0,), (3,), (2,), (4,), (1,), (5,), (4, 5), (0, 3), (1, 2), (0, 1)] Cutting over 4  in: [(0,), (3,), (2,), (4,), (1,), (5,), (4, 5), (0, 3), (1, 2), (0, 1)] Cutting over 4  in: [(0,), (3,), (2,), (4,), (1,), (5,), (4, 5), (0, 3), (1, 2), (0, 1)] Cutting over 5  in: [(0,), (3,), (2,), (4,), (1,), (5,), (4, 5), (0, 3), (1, 2), (0, 1)] Cutting over 5  in: [(0,), (3,), (2,), (4,), (1,), (5,), (4, 5), (0, 3), (1, 2), (0, 1)] Cutting (0, 2)  in: [(0,), (3,), (2,), (4,), (1,), (5,), (4, 5), (0, 3), (1, 2)] Cutting (2, 4)  in: [(0,), (3,), (2,), (4,), (1,), (5,), (4, 5), (0, 3), (1, 2)] Cutting (1, 5)  in: [(0,), (3,), (2,), (4,), (1,), (5,), (4, 5), (0, 3), (1, 2)] Cutting (2, 3)  in: [(0,), (3,), (2,), (4,), (1,), (5,), (4, 5), (0, 3), (1, 2)] Cutting (2, 4)  in: [(0,), (3,), (2,), (4,), (1,), (5,), (4, 5), (0, 3), (1, 2)] Cutting (2, 5)  in: [(0,), (3,), (2,), (4,), (1,), (5,), (4, 5), (0, 3), (1, 2)] Cutting (3, 4)  in: [(0,), (3,), (2,), (4,), (1,), (5,), (4, 5), (0, 3), (1, 2)] Cutting (3, 5)  in: [(0,), (3,), (2,), (4,), (1,), (5,), (4, 5), (0, 3), (1, 2)] Cutting over 3  in: [(0,), (3,), (2,), (4,), (1,), (5,), (4, 5), (0, 3), (1, 2)] Cutting over 3  in: [(0,), (3,), (2,), (4,), (1,), (5,), (4, 5), (0, 3), (1, 2)] Cutting over 3  in: [(0,), (3,), (2,), (4,), (1,), (5,), (4, 5), (0, 3), (1, 2)] Cutting over 4  in: [(0,), (3,), (2,), (4,), (1,), (5,), (4, 5), (0, 3), (1, 2)] Cutting over 5  in: [(0,), (3,), (2,), (4,), (1,), (5,), (4, 5), (0, 3), (1, 2)] Cutting (2, 4)  in: [(0,), (3,), (2,), (4,), (1,), (5,), (4, 5), (0, 3)] Cutting (0, 2)  in: [(0,), (3,), (2,), (4,), (1,), (5,), (4, 5), (0, 3)] Cutting (1, 5)  in: [(0,), (3,), (2,), (4,), (1,), (5,), (4, 5), (0, 3)] Cutting (2, 3)  in: [(0,), (3,), (2,), (4,), (1,), (5,), (4, 5), (0, 3)] Cutting (2, 4)  in: [(0,), (3,), (2,), (4,), (1,), (5,), (4, 5), (0, 3)] Cutting (2, 5)  in: [(0,), (3,), (2,), (4,), (1,), (5,), (4, 5), (0, 3)] Cutting (3, 4)  in: [(0,), (3,), (2,), (4,), (1,), (5,), (4, 5), (0, 3)] Cutting (3, 5)  in: [(0,), (3,), (2,), (4,), (1,), (5,), (4, 5), (0, 3)] Cutting over 3  in: [(0,), (3,), (2,), (4,), (1,), (5,), (4, 5), (0, 3)] Cutting over 3  in: [(0,), (3,), (2,), (4,), (1,), (5,), (4, 5), (0, 3)] Cutting over 3  in: [(0,), (3,), (2,), (4,), (1,), (5,), (4, 5), (0, 3)] Cutting over 4  in: [(0,), (3,), (2,), (4,), (1,), (5,), (4, 5), (0, 3)] Cutting over 5  in: [(0,), (3,), (2,), (4,), (1,), (5,), (4, 5), (0, 3)] Trying candidate  (0, 4)\n",
      "Theta =  [(0,), (3,), (2,), (4,), (1,), (5,), (4, 5), (0, 4)]\tc =  [((3,), (4, 5)), ((4, 5), (0,)), ((0,), ()), ((0, 1, 2), (1, 2, 4)), ((1, 2, 4), (1, 2, 3, 4, 5))]\tBanned =  [(1, 3), (1, 4), (0, 1), (1, 2), (0, 3)]\n",
      "Cutting (1, 5)  in: [(0,), (3,), (2,), (4,), (1,), (5,), (4, 5), (0, 4)] Cutting (2, 3)  in: [(0,), (3,), (2,), (4,), (1,), (5,), (4, 5), (0, 4)] Cutting (2, 4)  in: [(0,), (3,), (2,), (4,), (1,), (5,), (4, 5), (0, 4)] Cutting (2, 5)  in: [(0,), (3,), (2,), (4,), (1,), (5,), (4, 5), (0, 4)] Cutting (3, 4)  in: [(0,), (3,), (2,), (4,), (1,), (5,), (4, 5), (0, 4)] Cutting (3, 5)  in: [(0,), (3,), (2,), (4,), (1,), (5,), (4, 5), (0, 4)] Cutting (2, 4)  in: [(0,), (3,), (2,), (4,), (1,), (5,), (4, 5), (0, 4)] Cutting (0, 2)  in: [(0,), (3,), (2,), (4,), (1,), (5,), (4, 5), (0, 4)] Cutting over 3  in: [(0,), (3,), (2,), (4,), (1,), (5,), (4, 5), (0, 4)] Cutting over 3  in: [(0,), (3,), (2,), (4,), (1,), (5,), (4, 5), (0, 4)] Cutting over 3  in: [(0,), (3,), (2,), (4,), (1,), (5,), (4, 5), (0, 4)] Cutting over 4  in: [(0,), (3,), (2,), (4,), (1,), (5,), (4, 5), (0, 4)] Cutting over 5  in: [(0,), (3,), (2,), (4,), (1,), (5,), (4, 5), (0, 4)] Trying candidate  (0, 5)\n",
      "Theta =  [(0,), (3,), (2,), (4,), (1,), (5,), (4, 5), (0, 5)]\tc =  [((3,), (4, 5)), ((4, 5), (0,)), ((0,), ()), ((0, 1, 2), (0, 1, 2, 3, 4)), ((1, 2, 4), (1, 2, 3, 4, 5))]\tBanned =  [(1, 3), (1, 4), (0, 1), (1, 2), (0, 3), (0, 4)]\n",
      "Cutting (0, 2)  in: [(0,), (3,), (2,), (4,), (1,), (5,), (4, 5), (0, 5)] Cutting (1, 5)  in: [(0,), (3,), (2,), (4,), (1,), (5,), (4, 5), (0, 5)] Cutting (2, 3)  in: [(0,), (3,), (2,), (4,), (1,), (5,), (4, 5), (0, 5)] Cutting (2, 4)  in: [(0,), (3,), (2,), (4,), (1,), (5,), (4, 5), (0, 5)] Cutting (2, 5)  in: [(0,), (3,), (2,), (4,), (1,), (5,), (4, 5), (0, 5)] Cutting (3, 4)  in: [(0,), (3,), (2,), (4,), (1,), (5,), (4, 5), (0, 5)] Cutting (3, 5)  in: [(0,), (3,), (2,), (4,), (1,), (5,), (4, 5), (0, 5)] Cutting (2, 4)  in: [(0,), (3,), (2,), (4,), (1,), (5,), (4, 5), (0, 5)] Cutting (0, 2)  in: [(0,), (3,), (2,), (4,), (1,), (5,), (4, 5), (0, 5)] Cutting (2, 3)  in: [(0,), (3,), (2,), (4,), (1,), (5,), (4, 5), (0, 5)] Cutting (2, 4)  in: [(0,), (3,), (2,), (4,), (1,), (5,), (4, 5), (0, 5)] Cutting (3, 4)  in: [(0,), (3,), (2,), (4,), (1,), (5,), (4, 5), (0, 5)] Cutting over 3  in: [(0,), (3,), (2,), (4,), (1,), (5,), (4, 5), (0, 5)] Cutting over 3  in: [(0,), (3,), (2,), (4,), (1,), (5,), (4, 5), (0, 5)] Cutting over 3  in: [(0,), (3,), (2,), (4,), (1,), (5,), (4, 5), (0, 5)] Cutting over 3  in: [(0,), (3,), (2,), (4,), (1,), (5,), (4, 5), (0, 5)] Cutting over 4  in: [(0,), (3,), (2,), (4,), (1,), (5,), (4, 5), (0, 5)] Cutting over 4  in: [(0,), (3,), (2,), (4,), (1,), (5,), (4, 5), (0, 5)] Cutting over 5  in: [(0,), (3,), (2,), (4,), (1,), (5,), (4, 5), (0, 5)] Cutting over 5  in: [(0,), (3,), (2,), (4,), (1,), (5,), (4, 5), (0, 5)] Trying candidate  (3, 4)\n",
      "Theta =  [(0,), (3,), (2,), (4,), (1,), (5,), (4, 5), (3, 4)]\tc =  [((0, 3, 4, 5), (4, 5)), ((1, 2, 4), (0, 1, 2, 3, 4))]\tBanned =  [(1, 3), (1, 4), (0, 1), (1, 2), (0, 3), (0, 4), (0, 5)]\n",
      "Cutting (2, 4)  in: [(0,), (3,), (2,), (4,), (1,), (5,), (4, 5), (3, 4)] Cutting (0, 2)  in: [(0,), (3,), (2,), (4,), (1,), (5,), (4, 5), (3, 4)] Cutting (2, 3)  in: [(0,), (3,), (2,), (4,), (1,), (5,), (4, 5), (3, 4)] Cutting (2, 4)  in: [(0,), (3,), (2,), (4,), (1,), (5,), (4, 5), (3, 4)] Cutting (3, 5)  in: [(0,), (3,), (2,), (4,), (1,), (5,), (4, 5), (3, 4)] Cutting over 3  in: [(0,), (3,), (2,), (4,), (1,), (5,), (4, 5), (3, 4)] Cutting over 3  in: [(0,), (3,), (2,), (4,), (1,), (5,), (4, 5), (3, 4)] Cutting over 3  in: [(0,), (3,), (2,), (4,), (1,), (5,), (4, 5), (3, 4)] Cutting over 4  in: [(0,), (3,), (2,), (4,), (1,), (5,), (4, 5), (3, 4)] Cutting over 4  in: [(0,), (3,), (2,), (4,), (1,), (5,), (4, 5), (3, 4)] Cutting over 5  in: [(0,), (3,), (2,), (4,), (1,), (5,), (4, 5), (3, 4)] Trying candidate  (3, 5)\n",
      "Theta =  [(0,), (3,), (2,), (4,), (1,), (5,), (4, 5), (3, 5)]\tc =  [((3,), (4, 5)), ((4, 5), (0,)), ((0,), ()), ((1, 2, 4), (0, 1, 2, 3, 4))]\tBanned =  [(1, 3), (1, 4), (0, 1), (1, 2), (0, 3), (0, 4), (0, 5), (3, 4)]\n",
      "Cutting (2, 4)  in: [(0,), (3,), (2,), (4,), (1,), (5,), (4, 5), (3, 5)] Cutting (0, 2)  in: [(0,), (3,), (2,), (4,), (1,), (5,), (4, 5), (3, 5)] Cutting (2, 3)  in: [(0,), (3,), (2,), (4,), (1,), (5,), (4, 5), (3, 5)] Cutting (2, 4)  in: [(0,), (3,), (2,), (4,), (1,), (5,), (4, 5), (3, 5)] Cutting over 3  in: [(0,), (3,), (2,), (4,), (1,), (5,), (4, 5), (3, 5)] Cutting over 3  in: [(0,), (3,), (2,), (4,), (1,), (5,), (4, 5), (3, 5)] Cutting over 4  in: [(0,), (3,), (2,), (4,), (1,), (5,), (4, 5), (3, 5)] Cutting over 5  in: [(0,), (3,), (2,), (4,), (1,), (5,), (4, 5), (3, 5)] Cutting over 3  in: [(0,), (3,), (2,), (4,), (1,), (5,), (4, 5)] Cutting over 4  in: [(0,), (3,), (2,), (4,), (1,), (5,), (4, 5)] Cutting over 3  in: [(0,), (3,), (2,), (4,), (1,), (5,)] Cutting over 4  in: [(0,), (3,), (2,), (4,), (1,), (5,)] Cutting over 3  in: [(0,), (3,), (2,), (4,), (1,)] Cutting over 4  in: [(0,), (3,), (2,), (4,), (1,)] Trying candidate  (2, 4)\n",
      "Theta =  [(0,), (3,), (2,), (4,), (2, 4)]\tc =  [((0, 2), (3,)), ((3,), (0,)), ((0,), (0, 1, 2)), ((0,), ())]\tBanned =  [(1, 3), (1, 4), (0, 1), (1, 2), (0, 3), (0, 4), (0, 5), (3, 4), (3, 5), (4, 5), (5,), (1,)]\n",
      "Trying candidate  (0, 2)\n",
      "Theta =  [(0,), (3,), (2,), (4,), (2, 4), (0, 2)]\tc =  [((0, 2), (3,)), ((3,), (0,)), ((0,), (0, 1, 2))]\tBanned =  [(1, 3), (1, 4), (0, 1), (1, 2), (0, 3), (0, 4), (0, 5), (3, 4), (3, 5), (4, 5), (5,), (1,)]\n",
      "Cutting over 3  in: [(0,), (3,), (2,), (4,), (2, 4), (0, 2)] Cutting over 3  in: [(0,), (3,), (2,), (4,), (2, 4)] Cutting over 3  in: [(0,), (3,), (2,), (4,)] "
     ]
    }
   ],
   "source": [
    "t_mins, _ = get_min_thetas(prf, [EMPTY_SET])"
   ]
  },
  {
   "cell_type": "code",
   "execution_count": 23,
   "id": "233fe2ab-f1dd-42ed-bc52-21cf34746e33",
   "metadata": {},
   "outputs": [
    {
     "data": {
      "text/plain": [
       "[[(0,), (3,), (2,), (4,), (4, 5), (0, 3), (1, 2), (1, 3), (1, 5)],\n",
       " [(0,), (3,), (2,), (4,), (1,), (4, 5), (0, 3), (1, 3), (1, 5)],\n",
       " [(0,), (3,), (2,), (4,), (5,), (0, 3), (1, 2), (1, 3), (1, 5)],\n",
       " [(0,), (3,), (2,), (4,), (5,), (1,), (0, 3), (1, 3), (1, 5)]]"
      ]
     },
     "execution_count": 23,
     "metadata": {},
     "output_type": "execute_result"
    }
   ],
   "source": [
    "t_mins"
   ]
  },
  {
   "cell_type": "code",
   "execution_count": 25,
   "id": "e5ee5c2c-e11e-48fe-88d9-1fc17a0b90c7",
   "metadata": {},
   "outputs": [
    {
     "data": {
      "text/plain": [
       "[[(0,), (3,), (2,), (4,), (5,), (0, 3), (0, 1), (1, 4)],\n",
       " [(0,), (3,), (2,), (4,), (4, 5), (0, 3), (0, 1), (1, 4)]]"
      ]
     },
     "execution_count": 25,
     "metadata": {},
     "output_type": "execute_result"
    }
   ],
   "source": [
    "t_mins"
   ]
  },
  {
   "cell_type": "code",
   "execution_count": null,
   "id": "5e4addca-2033-47eb-b0af-3a0497708495",
   "metadata": {},
   "outputs": [],
   "source": []
  }
 ],
 "metadata": {
  "kernelspec": {
   "display_name": "Python 3.7",
   "language": "python",
   "name": "py37"
  },
  "language_info": {
   "codemirror_mode": {
    "name": "ipython",
    "version": 3
   },
   "file_extension": ".py",
   "mimetype": "text/x-python",
   "name": "python",
   "nbconvert_exporter": "python",
   "pygments_lexer": "ipython3",
   "version": "3.7.12"
  }
 },
 "nbformat": 4,
 "nbformat_minor": 5
}
