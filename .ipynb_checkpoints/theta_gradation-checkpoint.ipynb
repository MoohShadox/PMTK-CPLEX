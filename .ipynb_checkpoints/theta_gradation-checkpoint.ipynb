{
 "cells": [
  {
   "cell_type": "code",
   "execution_count": 1,
   "id": "d0dff981-b8c1-4a55-abf4-c6e21222ee2d",
   "metadata": {},
   "outputs": [],
   "source": [
    "import pandas as pd\n",
    "import numpy as np\n",
    "from collections import Counter\n",
    "import time\n",
    "from PMTK.sampling.preferences_sampler import *\n",
    "from PMTK.pref.preferences import *\n",
    "from PMTK.utility.utility_solver import *\n",
    "from PMTK.sampling.subset_samplers import *\n",
    "from PMTK.utility.subset_finder import *\n",
    "from PMTK.sampling.gibbs import *\n",
    "from PMTK.data.film_dataset import *\n",
    "from PMTK.sampling.decider import *\n",
    "from PMTK.utility import *\n",
    "from itertools import combinations"
   ]
  },
  {
   "cell_type": "code",
   "execution_count": 5,
   "id": "f9d81e5f-437b-4edc-9131-49d36e213475",
   "metadata": {},
   "outputs": [
    {
     "ename": "AttributeError",
     "evalue": "'Weighted_Preferences' object has no attribute '_Weighted_Preferences__add_subsets'",
     "output_type": "error",
     "traceback": [
      "\u001b[0;31m---------------------------------------------------------------------------\u001b[0m",
      "\u001b[0;31mAttributeError\u001b[0m                            Traceback (most recent call last)",
      "\u001b[0;32m/tmp/ipykernel_4005/4071364.py\u001b[0m in \u001b[0;36m<module>\u001b[0;34m\u001b[0m\n\u001b[1;32m      4\u001b[0m \u001b[0mWP\u001b[0m \u001b[0;34m=\u001b[0m \u001b[0mWeighted_Preferences\u001b[0m\u001b[0;34m(\u001b[0m\u001b[0mitems\u001b[0m\u001b[0;34m)\u001b[0m\u001b[0;34m\u001b[0m\u001b[0;34m\u001b[0m\u001b[0m\n\u001b[1;32m      5\u001b[0m \u001b[0;34m\u001b[0m\u001b[0m\n\u001b[0;32m----> 6\u001b[0;31m \u001b[0mWP\u001b[0m\u001b[0;34m.\u001b[0m\u001b[0madd_preference\u001b[0m\u001b[0;34m(\u001b[0m\u001b[0;34m(\u001b[0m\u001b[0;36m1\u001b[0m\u001b[0;34m,\u001b[0m\u001b[0;36m2\u001b[0m\u001b[0;34m,\u001b[0m\u001b[0;36m3\u001b[0m\u001b[0;34m)\u001b[0m\u001b[0;34m,\u001b[0m \u001b[0;34m(\u001b[0m\u001b[0;36m2\u001b[0m\u001b[0;34m,\u001b[0m\u001b[0;36m3\u001b[0m\u001b[0;34m)\u001b[0m\u001b[0;34m,\u001b[0m \u001b[0;36m1\u001b[0m\u001b[0;34m)\u001b[0m\u001b[0;34m\u001b[0m\u001b[0;34m\u001b[0m\u001b[0m\n\u001b[0m",
      "\u001b[0;32m~/Projects/PMTK-CPLEX/PMTK/pref/preferences.py\u001b[0m in \u001b[0;36madd_preference\u001b[0;34m(self, s_1, s_2, w)\u001b[0m\n\u001b[1;32m    425\u001b[0m         \u001b[0mCreate\u001b[0m \u001b[0ma\u001b[0m \u001b[0mstrict\u001b[0m \u001b[0mpreference\u001b[0m \u001b[0mbetween\u001b[0m \u001b[0mx\u001b[0m \u001b[0;32mand\u001b[0m \u001b[0my\u001b[0m\u001b[0;34m.\u001b[0m\u001b[0;34m\u001b[0m\u001b[0;34m\u001b[0m\u001b[0m\n\u001b[1;32m    426\u001b[0m         \"\"\"\n\u001b[0;32m--> 427\u001b[0;31m         \u001b[0ms_1\u001b[0m \u001b[0;34m=\u001b[0m \u001b[0mself\u001b[0m\u001b[0;34m.\u001b[0m\u001b[0m__add_subsets\u001b[0m\u001b[0;34m(\u001b[0m\u001b[0ms_1\u001b[0m\u001b[0;34m)\u001b[0m\u001b[0;34m\u001b[0m\u001b[0;34m\u001b[0m\u001b[0m\n\u001b[0m\u001b[1;32m    428\u001b[0m         \u001b[0ms_2\u001b[0m \u001b[0;34m=\u001b[0m \u001b[0mself\u001b[0m\u001b[0;34m.\u001b[0m\u001b[0m__add_subsets\u001b[0m\u001b[0;34m(\u001b[0m\u001b[0ms_2\u001b[0m\u001b[0;34m)\u001b[0m\u001b[0;34m\u001b[0m\u001b[0;34m\u001b[0m\u001b[0m\n\u001b[1;32m    429\u001b[0m         \u001b[0mt_1\u001b[0m \u001b[0;34m=\u001b[0m \u001b[0;34m[\u001b[0m\u001b[0ms_1\u001b[0m\u001b[0;34m,\u001b[0m \u001b[0ms_2\u001b[0m\u001b[0;34m]\u001b[0m\u001b[0;34m\u001b[0m\u001b[0;34m\u001b[0m\u001b[0m\n",
      "\u001b[0;31mAttributeError\u001b[0m: 'Weighted_Preferences' object has no attribute '_Weighted_Preferences__add_subsets'"
     ]
    }
   ],
   "source": [
    "n_items = 6\n",
    "density = 0.4\n",
    "items = np.arange(n_items)\n",
    "WP = Weighted_Preferences(items)\n",
    "\n",
    "WP.add_preference((1,2,3), (2,3), 1)"
   ]
  },
  {
   "cell_type": "code",
   "execution_count": 44,
   "id": "de1fe45c-9747-4dfe-b387-834ff1687262",
   "metadata": {},
   "outputs": [],
   "source": [
    "def ACR(prf, decider):\n",
    "    C = 0\n",
    "    W = 0\n",
    "    T = len(prf.preferred)\n",
    "    for x,y in prf.preferred:\n",
    "        if decider(x) > decider(y):\n",
    "            C += 1\n",
    "        elif decider(x) < decider(y):\n",
    "            W += 1\n",
    "    return C,W,T\n",
    "\n",
    "def intersect_per_union(prf_1, prf_2):\n",
    "    intersection = prf_1.intersection(prf_2)\n",
    "    un = prf_1 + prf_2\n",
    "    return len(intersection) / len(un)\n",
    "\n",
    "def predict_from_mult_thetas(thetas,p, subsets):\n",
    "    mdls = [utility_polyhedron(p.items, t, p) for t in thetas]\n",
    "    prf = Preferences(p.items)\n",
    "    for i_1 in range(len(subsets)):\n",
    "        s_1 = subsets[i_1]\n",
    "        for i_2 in range(i_1 + 1, len(subsets)):\n",
    "            s_2 = subsets[i_2]\n",
    "            r = [ordinal_dominance(s_1, s_2, mdl) for mdl in mdls]\n",
    "            if all(i == \"SUP\" for i in r):\n",
    "                prf.add_preference(s_1, s_2)\n",
    "            elif all(i == \"INF\" for i in r):\n",
    "                prf.add_preference(s_2, s_1)\n",
    "            elif all(i == \"EQ\" for i in r):\n",
    "                prf.add_indifference(s_1,s_2)\n",
    "    return prf\n",
    "\n",
    "def predict_from_theta(theta, p, subsets):\n",
    "    mdl = utility_polyhedron(p.items, theta, p)\n",
    "    prf = ordinal_peferences(p.items, subsets, mdl)\n",
    "    return prf"
   ]
  },
  {
   "cell_type": "code",
   "execution_count": 45,
   "id": "93862654-56d0-429d-8d3f-e36acb41a174",
   "metadata": {},
   "outputs": [],
   "source": [
    "def build_approx_theta(prf, init_theta = None):\n",
    "    connivents = []\n",
    "    if not init_theta:\n",
    "        init_theta = [EMPTY_SET]\n",
    "    theta = init_theta\n",
    "    min_k = 1\n",
    "    c  = get_connivent(theta, prf)\n",
    "    cpt = 0\n",
    "    while c:\n",
    "        if not c in connivents:\n",
    "            connivents.append(c)\n",
    "        cit = get_candidate_iterator(c)\n",
    "        skey = sorted(cit.keys())[0]\n",
    "        b = False\n",
    "        for k in cit:\n",
    "            if b:\n",
    "                break\n",
    "            for i in cit[k]:\n",
    "                s = set(i)\n",
    "                for t in s:\n",
    "                    b = b or (check_connivence_resolution(c, t) and not t in theta)\n",
    "                    if not t in theta and check_connivence_resolution(c, t):\n",
    "                        theta.append(t)\n",
    "        c  = get_connivent(theta, prf)\n",
    "        cpt = cpt + 1\n",
    "        #print(\"solved connivent: \", cpt, \" with\", theta)\n",
    "    a = additivity(theta)\n",
    "    for c_i in connivents:\n",
    "        cit = get_candidate_iterator(c_i)\n",
    "        for k in cit:\n",
    "            if k > a:\n",
    "                break\n",
    "            for i in cit[k]:\n",
    "                for t in i:\n",
    "                    if not t in theta and check_connivence_resolution(c_i,t):\n",
    "                        theta.append(t)\n",
    "    \n",
    "    return theta"
   ]
  },
  {
   "cell_type": "code",
   "execution_count": 46,
   "id": "4c07a194-b6df-4890-8c0c-037030938194",
   "metadata": {},
   "outputs": [],
   "source": [
    "def subs(s1, s2):\n",
    "    L = []\n",
    "    for s in s1:\n",
    "        if not s in s2:\n",
    "            L.append(s)\n",
    "    return tuple(L)"
   ]
  },
  {
   "cell_type": "code",
   "execution_count": 66,
   "id": "faf5920c-4c76-4cae-8b80-ed8cfc10c9e3",
   "metadata": {},
   "outputs": [],
   "source": [
    "def theta_neighbourhood(theta, prf, deg):\n",
    "    ti2 = time.time()\n",
    "    L = combinations(theta, deg)\n",
    "    ti2 = time.time() - ti2\n",
    "    print(\"Getting combinations\", ti2)\n",
    "    v = []\n",
    "    for e in L:\n",
    "        t2 = subs(theta, e)\n",
    "        ti3 = time.time()\n",
    "        c = get_connivent(t2, prf)\n",
    "        #print(\"Connivent computing time: \", time.time() - ti3)\n",
    "        if c == None:\n",
    "            v.append(t2)\n",
    "        else:\n",
    "            print(\".\", end = \"\")\n",
    "    return v\n",
    "\n",
    "def cautious_union(p1, p2):\n",
    "    p = Preferences(p1.items)\n",
    "    for x,y in p1.preferred:\n",
    "        if not (y,x) in p2.preferred:\n",
    "            p.add_preference(x,y)\n",
    "    for x,y in p2.preferred:\n",
    "        if not (y,x) in p1.preferred:\n",
    "            p.add_preference(x,y)\n",
    "    for x,y in p1.indifferences:\n",
    "        if (x2,y2) in p2.indifferences:\n",
    "            p.add_indifference(x,y)"
   ]
  },
  {
   "cell_type": "code",
   "execution_count": 85,
   "id": "0664777e-cc3f-428e-9993-8b4d76306c1b",
   "metadata": {},
   "outputs": [],
   "source": [
    "def predict_deg(theta, prf, subsets, max_d = None):\n",
    "    if not max_d or max_d > len(theta):\n",
    "        max_d = len(theta)\n",
    "    prfs = {}\n",
    "    for i in range(0,max_d+1):\n",
    "        ti1 = time.time()\n",
    "        ts = theta_neighbourhood(theta, prf, i)\n",
    "        ti1 = time.time() - ti1\n",
    "        print(\"Total neighbourhood\", ti1)\n",
    "        if len(ts) == 0:\n",
    "            break\n",
    "        p_u = Preferences(prf.items)\n",
    "        for t in ts:\n",
    "            mdl = utility_polyhedron(prf.items, t, prf)\n",
    "            p = ordinal_peferences(prf.items, subsets, mdl)\n",
    "            prfs[i] = prfs.get(i, []) + [p]\n",
    "    return prfs"
   ]
  },
  {
   "cell_type": "code",
   "execution_count": 118,
   "id": "7ca7a89d-aae1-44d5-b76d-661f541ae8c5",
   "metadata": {},
   "outputs": [],
   "source": [
    "n_items = 6\n",
    "density = 0.4\n",
    "items = np.arange(n_items)\n",
    "prf = sample_preferences_from_order(items, density*(2**(n_items+1)), indifference_rate= 0)"
   ]
  },
  {
   "cell_type": "code",
   "execution_count": 119,
   "id": "b095010c-63e4-450a-949d-c2023a698f0c",
   "metadata": {},
   "outputs": [
    {
     "data": {
      "text/plain": [
       "[[(0,), (4,), (2,), (3,), (5,), (1, 2), (2, 3)],\n",
       " [(0,), (4,), (2,), (3,), (5,), (1, 2), (3, 5)],\n",
       " [(0,), (4,), (2,), (3,), (5,), (2, 5), (2, 3)],\n",
       " [(0,), (4,), (2,), (3,), (5,), (2, 3), (0, 4)],\n",
       " [(0,), (4,), (2,), (3,), (5,), (0, 4), (1, 5)],\n",
       " [(0,), (4,), (2,), (3,), (5,), (1, 4), (0, 4)],\n",
       " [(0,), (4,), (2,), (3,), (5,), (3, 5), (0, 4)],\n",
       " [(0,), (4,), (2,), (3,), (5,), (1, 2), (1, 3)],\n",
       " [(0,), (4,), (2,), (3,), (5,), (2, 5), (3, 5)],\n",
       " [(0,), (4,), (2,), (3,), (5,), (0, 1), (4, 5)]]"
      ]
     },
     "execution_count": 119,
     "metadata": {},
     "output_type": "execute_result"
    }
   ],
   "source": [
    "theta=  build_approx_theta(prf)\n",
    "kernels = get_kernels_var(prf, theta)\n",
    "theta = union(kernels)\n",
    "kernels"
   ]
  },
  {
   "cell_type": "code",
   "execution_count": 120,
   "id": "3a3ebf46-cc4f-4aae-ae6b-186919a28637",
   "metadata": {},
   "outputs": [],
   "source": [
    "s = sample_subsets(items,n_subsets= 10)"
   ]
  },
  {
   "cell_type": "code",
   "execution_count": 125,
   "id": "9ba132e5-eaac-46ef-b12e-8b16e159791f",
   "metadata": {},
   "outputs": [
    {
     "name": "stdout",
     "output_type": "stream",
     "text": [
      "Getting combinations 1.430511474609375e-06\n",
      "Total neighbourhood 0.01713418960571289\n",
      "Getting combinations 1.6689300537109375e-06\n",
      "...Total neighbourhood 0.26198601722717285\n",
      "Getting combinations 1.9073486328125e-06\n",
      "........................................Total neighbourhood 1.370030164718628\n"
     ]
    }
   ],
   "source": [
    "prf_d = predict_deg(theta, prf, s, 2)"
   ]
  },
  {
   "cell_type": "code",
   "execution_count": 126,
   "id": "492cd8c7-b7d4-4b3a-b839-8bac65f5cf1a",
   "metadata": {},
   "outputs": [
    {
     "name": "stdout",
     "output_type": "stream",
     "text": [
      "0\n",
      "1\n",
      "2\n"
     ]
    }
   ],
   "source": [
    "for i in prf_d:\n",
    "    print(i)"
   ]
  },
  {
   "cell_type": "code",
   "execution_count": 127,
   "id": "f525775d-c8dd-47d4-8a11-462c404fc57f",
   "metadata": {},
   "outputs": [
    {
     "name": "stdout",
     "output_type": "stream",
     "text": [
      "0  :  1\n",
      "1  :  12\n",
      "2  :  65\n"
     ]
    }
   ],
   "source": [
    "for i in prf_d:\n",
    "    print(i , \" : \", len(prf_d[i]))"
   ]
  },
  {
   "cell_type": "code",
   "execution_count": null,
   "id": "417ed265-e8d8-427f-a34d-26be35722af8",
   "metadata": {},
   "outputs": [],
   "source": []
  },
  {
   "cell_type": "code",
   "execution_count": null,
   "id": "b734336b-2ad9-4348-9542-affd233f5025",
   "metadata": {},
   "outputs": [],
   "source": []
  }
 ],
 "metadata": {
  "kernelspec": {
   "display_name": "Python 3.7",
   "language": "python",
   "name": "py37"
  },
  "language_info": {
   "codemirror_mode": {
    "name": "ipython",
    "version": 3
   },
   "file_extension": ".py",
   "mimetype": "text/x-python",
   "name": "python",
   "nbconvert_exporter": "python",
   "pygments_lexer": "ipython3",
   "version": "3.7.12"
  }
 },
 "nbformat": 4,
 "nbformat_minor": 5
}
