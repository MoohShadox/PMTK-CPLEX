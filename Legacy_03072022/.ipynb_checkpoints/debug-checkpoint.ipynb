{
 "cells": [
  {
   "cell_type": "code",
   "execution_count": 1,
   "id": "1ee74b5b-cad5-41c7-b73d-a5a30815ba41",
   "metadata": {},
   "outputs": [],
   "source": [
    "import pandas as pd\n",
    "import numpy as np\n",
    "from collections import Counter\n",
    "from PMTK.sampling.preferences_sampler import *\n",
    "from PMTK.pref.preferences import *\n",
    "from PMTK.utility.utility_solver import *\n",
    "from PMTK.sampling.subset_samplers import *\n",
    "from PMTK.utility.model_solver import *\n",
    "from PMTK.utility.subset_finder import *\n",
    "from PMTK.sampling.gibbs import *\n",
    "from PMTK.data.film_dataset import *\n",
    "from PMTK.sampling.decider import *"
   ]
  },
  {
   "cell_type": "code",
   "execution_count": 2,
   "id": "067b3956-576c-45de-9983-997770f5cbcd",
   "metadata": {},
   "outputs": [],
   "source": [
    "n_items = 5\n",
    "density = 0.4\n",
    "items = np.arange(n_items)\n",
    "theta = [EMPTY_SET]\n",
    "prf = sample_preferences_from_order(items, density*(2**(n_items+1)), indifference_rate= 0.3)"
   ]
  },
  {
   "cell_type": "code",
   "execution_count": 3,
   "id": "7fea9a4d-6556-4356-983e-26dd4d891fc2",
   "metadata": {
    "scrolled": true,
    "tags": []
   },
   "outputs": [
    {
     "name": "stdout",
     "output_type": "stream",
     "text": [
      "Theta: [] Theta min: []\n",
      "Connivent is [((), (2,))]\n",
      "Trying candidate: (2,)\n",
      "Theta: [(2,)] Theta min: []\n",
      "Connivent is [((2,), (1, 2))]\n",
      "Trying candidate: (1,)\n",
      "Theta: [(2,), (1,)] Theta min: []\n",
      "Connivent is [((1, 2), (0, 1, 2))]\n",
      "Trying candidate: (0,)\n",
      "Theta: [(2,), (1,), (0,)] Theta min: []\n",
      "Connivent is [((0, 1, 2, 3), (1, 2)), ((1, 2), (0, 1, 2))]\n",
      "Trying candidate: (3,)\n",
      "Theta: [(2,), (1,), (0,), (3,)] Theta min: []\n",
      "Connivent is [((2,), (1, 2)), ((0, 1, 2, 3), (1, 2)), ((1, 2), (0, 2, 3, 4))]\n",
      "Trying candidate: (0, 1)\n",
      "Theta: [(2,), (1,), (0,), (3,), (0, 1)] Theta min: []\n",
      "Connivent is [((0, 1, 2), (0, 1, 2, 4))]\n",
      "Trying candidate: (4,)\n",
      "Theta: [(2,), (1,), (0,), (3,), (0, 1), (4,)] Theta min: []\n",
      "Connivent is None\n",
      "found =  [[(2,), (1,), (3,), (4,)]] f=  [(2,), (1,), (3,), (4,)]\n",
      "items= [0 1 2 3 4]\n",
      "k2 =  [[(2,), (1,), (3,), (4,)]]\n",
      "Trying candidate: (0, 4)\n",
      "Trying candidate: (1, 3)\n",
      "Trying candidate: (0, 3)\n",
      "Trying candidate: (0, 1)\n",
      "Trying candidate: (0, 2)\n",
      "Trying candidate: (1, 2)\n"
     ]
    }
   ],
   "source": [
    "theta_mins, stats = get_min_thetas(prf, [EMPTY_SET])"
   ]
  },
  {
   "cell_type": "code",
   "execution_count": 4,
   "id": "a271a0dc-4fe4-464e-bbec-1e7997ae5e5b",
   "metadata": {},
   "outputs": [
    {
     "data": {
      "text/plain": [
       "[[(2,), (1,), (3,), (4,)]]"
      ]
     },
     "execution_count": 4,
     "metadata": {},
     "output_type": "execute_result"
    }
   ],
   "source": [
    "theta_mins"
   ]
  },
  {
   "cell_type": "code",
   "execution_count": 5,
   "id": "c310936b-1298-4e47-ab6f-695f3331316a",
   "metadata": {
    "scrolled": true,
    "tags": []
   },
   "outputs": [
    {
     "name": "stdout",
     "output_type": "stream",
     "text": [
      "Theta: [] Theta min: []\n",
      "Connivent is [((), (2,))]\n",
      "Trying candidate: (2,)\n",
      "Theta: [(2,)] Theta min: []\n",
      "Connivent is [((2,), (1, 2))]\n",
      "Trying candidate: (1,)\n",
      "Theta: [(2,), (1,)] Theta min: []\n",
      "Connivent is [((1, 2), (0, 1, 2))]\n",
      "Trying candidate: (0,)\n",
      "Theta: [(2,), (1,), (0,)] Theta min: []\n",
      "Connivent is [((0, 1, 2, 3), (1, 2)), ((1, 2), (0, 1, 2))]\n",
      "Trying candidate: (3,)\n",
      "Theta: [(2,), (1,), (0,), (3,)] Theta min: []\n",
      "Connivent is [((2,), (1, 2)), ((0, 1, 2, 3), (1, 2)), ((1, 2), (0, 2, 3, 4))]\n",
      "Trying candidate: (0, 1)\n",
      "Theta: [(2,), (1,), (0,), (3,), (0, 1)] Theta min: []\n",
      "Connivent is [((0, 1, 2), (0, 1, 2, 4))]\n",
      "Trying candidate: (4,)\n",
      "Theta: [(2,), (1,), (0,), (3,), (0, 1), (4,)] Theta min: []\n",
      "Connivent is None\n",
      "found =  [[(2,), (1,), (3,), (4,)]] f=  [(2,), (1,), (3,), (4,)]\n",
      "items= [0 1 2 3 4]\n",
      "k2 =  [[(2,), (1,), (3,), (4,)]]\n",
      "Trying candidate: (0, 4)\n",
      "Trying candidate: (1, 3)\n",
      "Trying candidate: (0, 3)\n",
      "Trying candidate: (0, 1)\n",
      "Trying candidate: (0, 2)\n",
      "Trying candidate: (1, 2)\n"
     ]
    }
   ],
   "source": [
    "theta_mins, stats = get_min_thetas(prf, [EMPTY_SET])"
   ]
  },
  {
   "cell_type": "code",
   "execution_count": 6,
   "id": "3aee66ca-3575-4dd9-a434-6f993a411b3c",
   "metadata": {},
   "outputs": [
    {
     "data": {
      "text/plain": [
       "[[(2,), (1,), (3,), (4,)]]"
      ]
     },
     "execution_count": 6,
     "metadata": {},
     "output_type": "execute_result"
    }
   ],
   "source": [
    "theta_mins"
   ]
  },
  {
   "cell_type": "code",
   "execution_count": null,
   "id": "03e9cae5-c633-4802-a65c-360c8fff17b0",
   "metadata": {},
   "outputs": [],
   "source": []
  }
 ],
 "metadata": {
  "kernelspec": {
   "display_name": "Python 3.7",
   "language": "python",
   "name": "py37"
  },
  "language_info": {
   "codemirror_mode": {
    "name": "ipython",
    "version": 3
   },
   "file_extension": ".py",
   "mimetype": "text/x-python",
   "name": "python",
   "nbconvert_exporter": "python",
   "pygments_lexer": "ipython3",
   "version": "3.7.12"
  }
 },
 "nbformat": 4,
 "nbformat_minor": 5
}
