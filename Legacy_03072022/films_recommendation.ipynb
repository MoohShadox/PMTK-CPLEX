{
 "cells": [
  {
   "cell_type": "code",
   "execution_count": 2,
   "id": "99240de7-ff69-4612-aa2a-174e841fedda",
   "metadata": {},
   "outputs": [],
   "source": [
    "import pandas as pd\n",
    "import numpy as np\n",
    "from collections import Counter\n",
    "from PMTK.sampling.preferences_sampler import *\n",
    "from PMTK.pref.preferences import *\n",
    "from PMTK.utility.utility_solver import *\n",
    "from PMTK.sampling.subset_samplers import *\n",
    "from PMTK.utility.model_solver import *\n",
    "from PMTK.utility.subset_finder import *\n",
    "from PMTK.sampling.gibbs import *\n",
    "from PMTK.data.film_dataset import *\n",
    "from PMTK.sampling.decider import *\n",
    "from surprise import SVD\n",
    "from surprise import Dataset\n",
    "from surprise.model_selection import cross_validate"
   ]
  },
  {
   "cell_type": "code",
   "execution_count": null,
   "id": "bc59db07-5c43-4885-9f7d-a2fccfec004d",
   "metadata": {},
   "outputs": [],
   "source": [
    "\n"
   ]
  },
  {
   "cell_type": "code",
   "execution_count": 3,
   "id": "0ca10d22-701a-4b12-b522-2b3659adf4be",
   "metadata": {},
   "outputs": [
    {
     "name": "stdout",
     "output_type": "stream",
     "text": [
      "Preference relation : \n",
      "(0, 2, 4, 6, 8, 10) > (0, 2, 4, 6, 9, 10) \n",
      "(0, 2, 4, 6, 8, 10) > (1, 3, 5, 7, 9) \n",
      "(0, 2, 4, 6, 8, 10) > (0, 3, 5, 7, 9) \n",
      "(0, 2, 4, 6, 9, 10) > (0, 3, 5, 7, 9) \n",
      "(0, 2, 4, 7, 8, 10) > (0, 2, 4, 6, 9, 10) \n",
      "(0, 2, 5, 6, 9, 10) > (0, 2, 4, 6, 9, 10) \n",
      "(0, 2, 4, 7, 8) > (0, 2, 4, 6, 9, 10) \n",
      "(1, 2, 5, 7, 9) > (0, 2, 4, 6, 9, 10) \n",
      "(1, 3, 5, 7, 9) > (0, 3, 5, 7, 9) \n",
      "(0, 2, 4, 7, 8, 10) > (1, 3, 5, 7, 9) \n",
      "(0, 2, 5, 6, 9, 10) > (1, 3, 5, 7, 9) \n",
      "(0, 2, 4, 7, 8) > (1, 3, 5, 7, 9) \n",
      "(1, 2, 5, 7, 9) > (1, 3, 5, 7, 9) \n",
      "(0, 2, 4, 7, 8, 10) > (0, 3, 5, 7, 9) \n",
      "(0, 2, 5, 6, 9, 10) > (0, 3, 5, 7, 9) \n",
      "(0, 2, 4, 7, 8) > (0, 3, 5, 7, 9) \n",
      "(1, 2, 5, 7, 9) > (0, 3, 5, 7, 9) \n",
      "\n"
     ]
    }
   ],
   "source": [
    "fd = Film_Dataset(20,6)\n",
    "prf = fd.get_preferences_items(4)\n",
    "print(prf)"
   ]
  },
  {
   "cell_type": "code",
   "execution_count": 4,
   "id": "32b8906d-0acb-4918-922a-3fcc809210ea",
   "metadata": {},
   "outputs": [
    {
     "data": {
      "text/plain": [
       "[[(2,), (2, 5), (2, 9), (1, 3)], [(3,), (2, 5), (2, 9), (1, 3)]]"
      ]
     },
     "execution_count": 4,
     "metadata": {},
     "output_type": "execute_result"
    }
   ],
   "source": [
    "t= build_approx_theta(prf)\n",
    "t = get_kernels_opt(prf, t)\n",
    "t"
   ]
  },
  {
   "cell_type": "code",
   "execution_count": 5,
   "id": "8dcef9f2-d593-4cb3-a76a-1ee9bac1b3ee",
   "metadata": {},
   "outputs": [
    {
     "ename": "NameError",
     "evalue": "name 'theta' is not defined",
     "output_type": "error",
     "traceback": [
      "\u001b[0;31m---------------------------------------------------------------------------\u001b[0m",
      "\u001b[0;31mNameError\u001b[0m                                 Traceback (most recent call last)",
      "\u001b[0;32m/tmp/ipykernel_99/195430957.py\u001b[0m in \u001b[0;36m<module>\u001b[0;34m\u001b[0m\n\u001b[0;32m----> 1\u001b[0;31m \u001b[0mds\u001b[0m \u001b[0;34m=\u001b[0m \u001b[0mprf\u001b[0m\u001b[0;34m.\u001b[0m\u001b[0mto_dataset\u001b[0m\u001b[0;34m(\u001b[0m\u001b[0mtheta\u001b[0m\u001b[0;34m)\u001b[0m\u001b[0;34m\u001b[0m\u001b[0;34m\u001b[0m\u001b[0m\n\u001b[0m",
      "\u001b[0;31mNameError\u001b[0m: name 'theta' is not defined"
     ]
    }
   ],
   "source": [
    "ds = prf.to_dataset(theta)"
   ]
  },
  {
   "cell_type": "code",
   "execution_count": 8,
   "id": "9db7472d-a3ea-41b9-9384-4b06a0beaa3f",
   "metadata": {},
   "outputs": [
    {
     "name": "stdout",
     "output_type": "stream",
     "text": [
      "x=(0, 2, 4, 6, 8, 10), y = (0, 2, 4, 6, 9, 10), e1 = -1.0, e2 = 1.0\n",
      "x=(0, 2, 4, 6, 8, 10), y = (1, 3, 5, 7, 9), e1 = -1.0, e2 = 1.0\n",
      "x=(0, 2, 4, 6, 8, 10), y = (0, 3, 5, 7, 9), e1 = -2.0, e2 = 1.0\n",
      "x=(0, 2, 4, 6, 8, 10), y = (0, 2, 4, 7, 8, 10), e1 = 0, e2 = 0\n",
      "x=(0, 2, 4, 6, 8, 10), y = (0, 2, 5, 6, 9, 10), e1 = 1.0, e2 = 1.0\n",
      "x=(0, 2, 4, 6, 8, 10), y = (0, 2, 4, 7, 8), e1 = 0, e2 = 0\n",
      "x=(0, 2, 4, 6, 8, 10), y = (1, 2, 5, 7, 9), e1 = 1.0, e2 = 1.0\n",
      "x=(0, 2, 4, 6, 9, 10), y = (1, 3, 5, 7, 9), e1 = 1.0, e2 = 1.0\n",
      "x=(0, 2, 4, 6, 9, 10), y = (0, 3, 5, 7, 9), e1 = -1.0, e2 = 1.0\n",
      "x=(0, 2, 4, 6, 9, 10), y = (0, 2, 4, 7, 8, 10), e1 = 1.0, e2 = -1.0\n",
      "x=(0, 2, 4, 6, 9, 10), y = (0, 2, 5, 6, 9, 10), e1 = 1.0, e2 = -1.0\n",
      "x=(0, 2, 4, 6, 9, 10), y = (0, 2, 4, 7, 8), e1 = 1.0, e2 = -1.0\n",
      "x=(0, 2, 4, 6, 9, 10), y = (1, 2, 5, 7, 9), e1 = 1.0, e2 = -1.0\n",
      "x=(1, 3, 5, 7, 9), y = (0, 3, 5, 7, 9), e1 = -1.0, e2 = 1.0\n",
      "x=(1, 3, 5, 7, 9), y = (0, 2, 4, 7, 8, 10), e1 = 1.0, e2 = -1.0\n",
      "x=(1, 3, 5, 7, 9), y = (0, 2, 5, 6, 9, 10), e1 = 1.0, e2 = -1.0\n",
      "x=(1, 3, 5, 7, 9), y = (0, 2, 4, 7, 8), e1 = 1.0, e2 = -1.0\n",
      "x=(1, 3, 5, 7, 9), y = (1, 2, 5, 7, 9), e1 = 1.0, e2 = -1.0\n",
      "x=(0, 3, 5, 7, 9), y = (0, 2, 4, 7, 8, 10), e1 = 1.0, e2 = -2.0\n",
      "x=(0, 3, 5, 7, 9), y = (0, 2, 5, 6, 9, 10), e1 = 1.0, e2 = -2.0\n",
      "x=(0, 3, 5, 7, 9), y = (0, 2, 4, 7, 8), e1 = 1.0, e2 = -2.0\n",
      "x=(0, 3, 5, 7, 9), y = (1, 2, 5, 7, 9), e1 = 1.0, e2 = -2.0\n",
      "x=(0, 2, 4, 7, 8, 10), y = (0, 2, 5, 6, 9, 10), e1 = 1.0, e2 = 1.0\n",
      "x=(0, 2, 4, 7, 8, 10), y = (0, 2, 4, 7, 8), e1 = 0, e2 = 0\n",
      "x=(0, 2, 4, 7, 8, 10), y = (1, 2, 5, 7, 9), e1 = 1.0, e2 = 1.0\n",
      "x=(0, 2, 5, 6, 9, 10), y = (0, 2, 4, 7, 8), e1 = 1.0, e2 = 1.0\n",
      "x=(0, 2, 5, 6, 9, 10), y = (1, 2, 5, 7, 9), e1 = 0, e2 = 0\n",
      "x=(0, 2, 4, 7, 8), y = (1, 2, 5, 7, 9), e1 = 1.0, e2 = 1.0\n"
     ]
    }
   ],
   "source": [
    "mdl = utility_polyhedron(prf.items, union(t), prf)\n",
    "p = ordinal_peferences(prf.items, prf.subsets, mdl)"
   ]
  },
  {
   "cell_type": "code",
   "execution_count": null,
   "id": "6195924d-9afa-4b2e-ba68-011a644dd752",
   "metadata": {},
   "outputs": [],
   "source": []
  }
 ],
 "metadata": {
  "kernelspec": {
   "display_name": "Python 3.7",
   "language": "python",
   "name": "py37"
  },
  "language_info": {
   "codemirror_mode": {
    "name": "ipython",
    "version": 3
   },
   "file_extension": ".py",
   "mimetype": "text/x-python",
   "name": "python",
   "nbconvert_exporter": "python",
   "pygments_lexer": "ipython3",
   "version": "3.7.12"
  }
 },
 "nbformat": 4,
 "nbformat_minor": 5
}
