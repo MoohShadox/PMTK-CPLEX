{
 "cells": [
  {
   "cell_type": "code",
   "execution_count": 4,
   "id": "6a55a47e-9762-4aa8-867b-caede2d97d12",
   "metadata": {},
   "outputs": [],
   "source": [
    "import pandas as pd\n",
    "import numpy as np\n",
    "import seaborn as sns"
   ]
  },
  {
   "cell_type": "code",
   "execution_count": 31,
   "id": "b92dd31e-3536-4215-9969-822bbd479d69",
   "metadata": {},
   "outputs": [
    {
     "data": {
      "text/html": [
       "<div>\n",
       "<style scoped>\n",
       "    .dataframe tbody tr th:only-of-type {\n",
       "        vertical-align: middle;\n",
       "    }\n",
       "\n",
       "    .dataframe tbody tr th {\n",
       "        vertical-align: top;\n",
       "    }\n",
       "\n",
       "    .dataframe thead th {\n",
       "        text-align: right;\n",
       "    }\n",
       "</style>\n",
       "<table border=\"1\" class=\"dataframe\">\n",
       "  <thead>\n",
       "    <tr style=\"text-align: right;\">\n",
       "      <th></th>\n",
       "      <th>Unnamed: 0</th>\n",
       "      <th>n_pref</th>\n",
       "      <th>n_items</th>\n",
       "      <th>relation</th>\n",
       "      <th>MSS</th>\n",
       "      <th>Time</th>\n",
       "    </tr>\n",
       "  </thead>\n",
       "  <tbody>\n",
       "    <tr>\n",
       "      <th>0</th>\n",
       "      <td>0</td>\n",
       "      <td>3</td>\n",
       "      <td>4</td>\n",
       "      <td>LEX</td>\n",
       "      <td>2</td>\n",
       "      <td>0.049163</td>\n",
       "    </tr>\n",
       "    <tr>\n",
       "      <th>1</th>\n",
       "      <td>1</td>\n",
       "      <td>3</td>\n",
       "      <td>4</td>\n",
       "      <td>INCL</td>\n",
       "      <td>6</td>\n",
       "      <td>0.070091</td>\n",
       "    </tr>\n",
       "    <tr>\n",
       "      <th>2</th>\n",
       "      <td>2</td>\n",
       "      <td>3</td>\n",
       "      <td>4</td>\n",
       "      <td>LEX+</td>\n",
       "      <td>2</td>\n",
       "      <td>0.042938</td>\n",
       "    </tr>\n",
       "    <tr>\n",
       "      <th>3</th>\n",
       "      <td>3</td>\n",
       "      <td>3</td>\n",
       "      <td>4</td>\n",
       "      <td>LEX</td>\n",
       "      <td>2</td>\n",
       "      <td>0.040473</td>\n",
       "    </tr>\n",
       "    <tr>\n",
       "      <th>4</th>\n",
       "      <td>4</td>\n",
       "      <td>3</td>\n",
       "      <td>4</td>\n",
       "      <td>INCL</td>\n",
       "      <td>3</td>\n",
       "      <td>0.045729</td>\n",
       "    </tr>\n",
       "    <tr>\n",
       "      <th>...</th>\n",
       "      <td>...</td>\n",
       "      <td>...</td>\n",
       "      <td>...</td>\n",
       "      <td>...</td>\n",
       "      <td>...</td>\n",
       "      <td>...</td>\n",
       "    </tr>\n",
       "    <tr>\n",
       "      <th>2095</th>\n",
       "      <td>2095</td>\n",
       "      <td>10</td>\n",
       "      <td>4</td>\n",
       "      <td>INCL</td>\n",
       "      <td>1188</td>\n",
       "      <td>14.658016</td>\n",
       "    </tr>\n",
       "    <tr>\n",
       "      <th>2096</th>\n",
       "      <td>2096</td>\n",
       "      <td>10</td>\n",
       "      <td>4</td>\n",
       "      <td>LEX+</td>\n",
       "      <td>4</td>\n",
       "      <td>0.695645</td>\n",
       "    </tr>\n",
       "    <tr>\n",
       "      <th>2097</th>\n",
       "      <td>2097</td>\n",
       "      <td>10</td>\n",
       "      <td>4</td>\n",
       "      <td>LEX</td>\n",
       "      <td>4</td>\n",
       "      <td>0.293267</td>\n",
       "    </tr>\n",
       "    <tr>\n",
       "      <th>2098</th>\n",
       "      <td>2098</td>\n",
       "      <td>10</td>\n",
       "      <td>4</td>\n",
       "      <td>INCL</td>\n",
       "      <td>42</td>\n",
       "      <td>0.560673</td>\n",
       "    </tr>\n",
       "    <tr>\n",
       "      <th>2099</th>\n",
       "      <td>2099</td>\n",
       "      <td>10</td>\n",
       "      <td>4</td>\n",
       "      <td>LEX+</td>\n",
       "      <td>2</td>\n",
       "      <td>0.238179</td>\n",
       "    </tr>\n",
       "  </tbody>\n",
       "</table>\n",
       "<p>2100 rows × 6 columns</p>\n",
       "</div>"
      ],
      "text/plain": [
       "      Unnamed: 0  n_pref  n_items relation   MSS       Time\n",
       "0              0       3        4      LEX     2   0.049163\n",
       "1              1       3        4     INCL     6   0.070091\n",
       "2              2       3        4     LEX+     2   0.042938\n",
       "3              3       3        4      LEX     2   0.040473\n",
       "4              4       3        4     INCL     3   0.045729\n",
       "...          ...     ...      ...      ...   ...        ...\n",
       "2095        2095      10        4     INCL  1188  14.658016\n",
       "2096        2096      10        4     LEX+     4   0.695645\n",
       "2097        2097      10        4      LEX     4   0.293267\n",
       "2098        2098      10        4     INCL    42   0.560673\n",
       "2099        2099      10        4     LEX+     2   0.238179\n",
       "\n",
       "[2100 rows x 6 columns]"
      ]
     },
     "execution_count": 31,
     "metadata": {},
     "output_type": "execute_result"
    }
   ],
   "source": [
    "df = pd.read_csv(\"model_criterion_evaluation.csv\")\n",
    "df"
   ]
  },
  {
   "cell_type": "code",
   "execution_count": 32,
   "id": "0b37ff11-f3ed-4859-8db7-7e8591d357fa",
   "metadata": {},
   "outputs": [
    {
     "data": {
      "text/plain": [
       "<AxesSubplot:xlabel='n_pref', ylabel='MSS'>"
      ]
     },
     "execution_count": 32,
     "metadata": {},
     "output_type": "execute_result"
    },
    {
     "data": {
      "image/png": "[encoded data removed]",
      "text/plain": [
       "<Figure size 432x288 with 1 Axes>"
      ]
     },
     "metadata": {
      "needs_background": "light"
     },
     "output_type": "display_data"
    }
   ],
   "source": [
    "sns.lineplot(x = \"n_pref\", y = \"MSS\", hue = \"relation\", data = df)"
   ]
  },
  {
   "cell_type": "code",
   "execution_count": 33,
   "id": "1a35b8dc-589e-468c-8ec7-8bd9124cf14c",
   "metadata": {},
   "outputs": [
    {
     "data": {
      "text/plain": [
       "<AxesSubplot:xlabel='n_pref', ylabel='Time'>"
      ]
     },
     "execution_count": 33,
     "metadata": {},
     "output_type": "execute_result"
    },
    {
     "data": {
      "image/png": "[encoded data removed]",
      "text/plain": [
       "<Figure size 432x288 with 1 Axes>"
      ]
     },
     "metadata": {
      "needs_background": "light"
     },
     "output_type": "display_data"
    }
   ],
   "source": [
    "sns.lineplot(x = \"n_pref\", y = \"Time\", hue = \"relation\", data = df)"
   ]
  },
  {
   "cell_type": "code",
   "execution_count": 37,
   "id": "fec06191-c4b5-4b07-bdec-a8a60a54985a",
   "metadata": {},
   "outputs": [
    {
     "data": {
      "text/html": [
       "<div>\n",
       "<style scoped>\n",
       "    .dataframe tbody tr th:only-of-type {\n",
       "        vertical-align: middle;\n",
       "    }\n",
       "\n",
       "    .dataframe tbody tr th {\n",
       "        vertical-align: top;\n",
       "    }\n",
       "\n",
       "    .dataframe thead th {\n",
       "        text-align: right;\n",
       "    }\n",
       "</style>\n",
       "<table border=\"1\" class=\"dataframe\">\n",
       "  <thead>\n",
       "    <tr style=\"text-align: right;\">\n",
       "      <th></th>\n",
       "      <th>Unnamed: 0</th>\n",
       "      <th>n_pref</th>\n",
       "      <th>n_items</th>\n",
       "      <th>relation</th>\n",
       "      <th>MSS</th>\n",
       "      <th>Time</th>\n",
       "    </tr>\n",
       "  </thead>\n",
       "  <tbody>\n",
       "    <tr>\n",
       "      <th>0</th>\n",
       "      <td>0</td>\n",
       "      <td>6</td>\n",
       "      <td>5</td>\n",
       "      <td>LEX</td>\n",
       "      <td>2</td>\n",
       "      <td>0.059637</td>\n",
       "    </tr>\n",
       "    <tr>\n",
       "      <th>1</th>\n",
       "      <td>1</td>\n",
       "      <td>6</td>\n",
       "      <td>5</td>\n",
       "      <td>LEX+</td>\n",
       "      <td>2</td>\n",
       "      <td>0.055210</td>\n",
       "    </tr>\n",
       "    <tr>\n",
       "      <th>2</th>\n",
       "      <td>2</td>\n",
       "      <td>6</td>\n",
       "      <td>5</td>\n",
       "      <td>LEX</td>\n",
       "      <td>2</td>\n",
       "      <td>0.057204</td>\n",
       "    </tr>\n",
       "    <tr>\n",
       "      <th>3</th>\n",
       "      <td>3</td>\n",
       "      <td>6</td>\n",
       "      <td>5</td>\n",
       "      <td>LEX+</td>\n",
       "      <td>2</td>\n",
       "      <td>0.047533</td>\n",
       "    </tr>\n",
       "    <tr>\n",
       "      <th>4</th>\n",
       "      <td>4</td>\n",
       "      <td>6</td>\n",
       "      <td>5</td>\n",
       "      <td>LEX</td>\n",
       "      <td>5</td>\n",
       "      <td>0.158298</td>\n",
       "    </tr>\n",
       "    <tr>\n",
       "      <th>...</th>\n",
       "      <td>...</td>\n",
       "      <td>...</td>\n",
       "      <td>...</td>\n",
       "      <td>...</td>\n",
       "      <td>...</td>\n",
       "      <td>...</td>\n",
       "    </tr>\n",
       "    <tr>\n",
       "      <th>1045</th>\n",
       "      <td>1045</td>\n",
       "      <td>21</td>\n",
       "      <td>5</td>\n",
       "      <td>LEX+</td>\n",
       "      <td>2</td>\n",
       "      <td>9.430695</td>\n",
       "    </tr>\n",
       "    <tr>\n",
       "      <th>1046</th>\n",
       "      <td>1046</td>\n",
       "      <td>21</td>\n",
       "      <td>5</td>\n",
       "      <td>LEX</td>\n",
       "      <td>141</td>\n",
       "      <td>24.516585</td>\n",
       "    </tr>\n",
       "    <tr>\n",
       "      <th>1047</th>\n",
       "      <td>1047</td>\n",
       "      <td>21</td>\n",
       "      <td>5</td>\n",
       "      <td>LEX+</td>\n",
       "      <td>6</td>\n",
       "      <td>4.756645</td>\n",
       "    </tr>\n",
       "    <tr>\n",
       "      <th>1048</th>\n",
       "      <td>1048</td>\n",
       "      <td>21</td>\n",
       "      <td>5</td>\n",
       "      <td>LEX</td>\n",
       "      <td>14</td>\n",
       "      <td>1.440263</td>\n",
       "    </tr>\n",
       "    <tr>\n",
       "      <th>1049</th>\n",
       "      <td>1049</td>\n",
       "      <td>21</td>\n",
       "      <td>5</td>\n",
       "      <td>LEX+</td>\n",
       "      <td>2</td>\n",
       "      <td>0.533262</td>\n",
       "    </tr>\n",
       "  </tbody>\n",
       "</table>\n",
       "<p>1050 rows × 6 columns</p>\n",
       "</div>"
      ],
      "text/plain": [
       "      Unnamed: 0  n_pref  n_items relation  MSS       Time\n",
       "0              0       6        5      LEX    2   0.059637\n",
       "1              1       6        5     LEX+    2   0.055210\n",
       "2              2       6        5      LEX    2   0.057204\n",
       "3              3       6        5     LEX+    2   0.047533\n",
       "4              4       6        5      LEX    5   0.158298\n",
       "...          ...     ...      ...      ...  ...        ...\n",
       "1045        1045      21        5     LEX+    2   9.430695\n",
       "1046        1046      21        5      LEX  141  24.516585\n",
       "1047        1047      21        5     LEX+    6   4.756645\n",
       "1048        1048      21        5      LEX   14   1.440263\n",
       "1049        1049      21        5     LEX+    2   0.533262\n",
       "\n",
       "[1050 rows x 6 columns]"
      ]
     },
     "execution_count": 37,
     "metadata": {},
     "output_type": "execute_result"
    }
   ],
   "source": [
    "df = pd.read_csv(\"LEX_LEXP.csv\")\n",
    "df"
   ]
  },
  {
   "cell_type": "code",
   "execution_count": 38,
   "id": "25a48885-7566-4185-90d5-4def4d48306f",
   "metadata": {},
   "outputs": [
    {
     "data": {
      "text/plain": [
       "<AxesSubplot:xlabel='n_pref', ylabel='Time'>"
      ]
     },
     "execution_count": 38,
     "metadata": {},
     "output_type": "execute_result"
    },
    {
     "data": {
      "image/png": "[encoded data removed]",
      "text/plain": [
       "<Figure size 432x288 with 1 Axes>"
      ]
     },
     "metadata": {
      "needs_background": "light"
     },
     "output_type": "display_data"
    }
   ],
   "source": [
    "sns.lineplot(x = \"n_pref\", y = \"Time\", hue = \"relation\", data = df)"
   ]
  },
  {
   "cell_type": "code",
   "execution_count": 39,
   "id": "bff75426-d5a6-4767-b85d-7262dc941446",
   "metadata": {},
   "outputs": [
    {
     "data": {
      "text/plain": [
       "<AxesSubplot:xlabel='n_pref', ylabel='MSS'>"
      ]
     },
     "execution_count": 39,
     "metadata": {},
     "output_type": "execute_result"
    },
    {
     "data": {
      "image/png": "[encoded data removed]",
      "text/plain": [
       "<Figure size 432x288 with 1 Axes>"
      ]
     },
     "metadata": {
      "needs_background": "light"
     },
     "output_type": "display_data"
    }
   ],
   "source": [
    "sns.lineplot(x = \"n_pref\", y = \"MSS\", hue = \"relation\", data = df)"
   ]
  },
  {
   "cell_type": "code",
   "execution_count": null,
   "id": "582fdd56-26ac-4b9c-ab34-698614dfcc70",
   "metadata": {},
   "outputs": [],
   "source": []
  }
 ],
 "metadata": {
  "kernelspec": {
   "display_name": "Python 3.7",
   "language": "python",
   "name": "py37"
  },
  "language_info": {
   "codemirror_mode": {
    "name": "ipython",
    "version": 3
   },
   "file_extension": ".py",
   "mimetype": "text/x-python",
   "name": "python",
   "nbconvert_exporter": "python",
   "pygments_lexer": "ipython3",
   "version": "3.7.12"
  }
 },
 "nbformat": 4,
 "nbformat_minor": 5
}
