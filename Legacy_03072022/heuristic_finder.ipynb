{
 "cells": [
  {
   "cell_type": "code",
   "execution_count": 3,
   "id": "c08a3f99-e293-4fe9-8a81-d7f5dadfa6e0",
   "metadata": {},
   "outputs": [],
   "source": [
    "import pandas as pd\n",
    "import numpy as np\n",
    "from collections import Counter\n",
    "from tqdm.notebook import tqdm\n",
    "import seaborn as sns\n",
    "from PMTK.sampling.preferences_sampler import *\n",
    "from PMTK.pref.preferences import *\n",
    "from PMTK.utility.utility_solver import *\n",
    "from PMTK.sampling.subset_samplers import *\n",
    "from PMTK.utility.model_solver import *\n",
    "from PMTK.utility.subset_finder import *\n",
    "from PMTK.sampling.gibbs import *\n",
    "from PMTK.data.film_dataset import *\n",
    "from PMTK.sampling.decider import *"
   ]
  },
  {
   "cell_type": "code",
   "execution_count": 4,
   "id": "d1c36cde-ae1c-4bd1-94b0-607496cccc5b",
   "metadata": {},
   "outputs": [],
   "source": [
    "def check_connivence_resolution(connivent_set, candidate):\n",
    "    if len(candidate) == 0:\n",
    "        return False\n",
    "    c = 0\n",
    "    for x,y in connivent_set:\n",
    "        if all(i in x for i in candidate):\n",
    "            c += 1\n",
    "        if all(i in y for i in candidate):\n",
    "            c -= 1\n",
    "    return c != 0\n"
   ]
  },
  {
   "cell_type": "code",
   "execution_count": 5,
   "id": "a8ef5b13-605e-4f47-abb1-c249f971777d",
   "metadata": {},
   "outputs": [],
   "source": [
    "n_items = 6\n",
    "density = 0.2\n",
    "items = np.arange(n_items)\n",
    "prf = sample_preferences_from_order(items, density*(2**(n_items+1)), indifference_rate= 0)"
   ]
  },
  {
   "cell_type": "code",
   "execution_count": 12,
   "id": "8bbb42a4-f227-4a4b-b894-077bfeb1a40c",
   "metadata": {},
   "outputs": [],
   "source": [
    "def build_approx_theta(prf, init_theta = None):\n",
    "    connivents = []\n",
    "    if not init_theta:\n",
    "        init_theta = [EMPTY_SET]\n",
    "    theta = init_theta\n",
    "    min_k = 1\n",
    "    c  = get_connivent(theta, prf)\n",
    "    while c:\n",
    "        if not c in connivents:\n",
    "            connivents.append(c)\n",
    "        cit = get_candidate_iterator(c)\n",
    "        skey = sorted(cit.keys())[0]\n",
    "        b = False\n",
    "        for k in cit:\n",
    "            if b:\n",
    "                break\n",
    "            for i in cit[k]:\n",
    "                for t in i:\n",
    "                    b = False or check_connivence_resolution(c, t)\n",
    "                    if not t in theta and check_connivence_resolution(c, t):\n",
    "                        theta.append(t)\n",
    "        c  = get_connivent(theta, prf)\n",
    "    a = additivity(theta)\n",
    "    for c in connivents:\n",
    "        cit = get_candidate_iterator(c)\n",
    "        for k in cit:\n",
    "            if k > a:\n",
    "                break\n",
    "            for i in cit[k]:\n",
    "                for t in i:\n",
    "                    if not t in theta and check_connivence_resolution(c,t):\n",
    "                        theta.append(t)\n",
    "    \n",
    "    return theta"
   ]
  },
  {
   "cell_type": "code",
   "execution_count": null,
   "id": "f9153db0-04b4-470e-83f3-f8df21cce6c7",
   "metadata": {},
   "outputs": [],
   "source": []
  },
  {
   "cell_type": "code",
   "execution_count": 17,
   "id": "4b8bf3c0-a6c2-4b7f-a1c9-820fa1af8915",
   "metadata": {},
   "outputs": [
    {
     "name": "stderr",
     "output_type": "stream",
     "text": [
      " 90%|███████████████████████████████████████████████████████████████▉       | 45/50 [03:43<00:24,  4.97s/it]\n"
     ]
    },
    {
     "ename": "Exception",
     "evalue": "Empty Polyhedron",
     "output_type": "error",
     "traceback": [
      "\u001b[0;31m---------------------------------------------------------------------------\u001b[0m",
      "\u001b[0;31mException\u001b[0m                                 Traceback (most recent call last)",
      "\u001b[0;32m/tmp/ipykernel_23406/2930886109.py\u001b[0m in \u001b[0;36m<module>\u001b[0;34m\u001b[0m\n\u001b[1;32m     12\u001b[0m         \u001b[0mtheta\u001b[0m \u001b[0;34m=\u001b[0m \u001b[0mbuild_approx_theta\u001b[0m\u001b[0;34m(\u001b[0m\u001b[0mprf\u001b[0m\u001b[0;34m)\u001b[0m\u001b[0;34m\u001b[0m\u001b[0;34m\u001b[0m\u001b[0m\n\u001b[1;32m     13\u001b[0m \u001b[0;34m\u001b[0m\u001b[0m\n\u001b[0;32m---> 14\u001b[0;31m         \u001b[0mt2\u001b[0m \u001b[0;34m=\u001b[0m \u001b[0mget_kernels\u001b[0m\u001b[0;34m(\u001b[0m\u001b[0mprf\u001b[0m\u001b[0;34m,\u001b[0m \u001b[0mtheta\u001b[0m\u001b[0;34m)\u001b[0m\u001b[0;34m\u001b[0m\u001b[0;34m\u001b[0m\u001b[0m\n\u001b[0m\u001b[1;32m     15\u001b[0m         \u001b[0mdata\u001b[0m\u001b[0;34m[\u001b[0m\u001b[0;34m\"n_pref\"\u001b[0m\u001b[0;34m]\u001b[0m\u001b[0;34m.\u001b[0m\u001b[0mappend\u001b[0m\u001b[0;34m(\u001b[0m\u001b[0mlen\u001b[0m\u001b[0;34m(\u001b[0m\u001b[0mprf\u001b[0m\u001b[0;34m)\u001b[0m\u001b[0;34m)\u001b[0m\u001b[0;34m\u001b[0m\u001b[0;34m\u001b[0m\u001b[0m\n\u001b[1;32m     16\u001b[0m         \u001b[0mdata\u001b[0m\u001b[0;34m[\u001b[0m\u001b[0;34m\"n_items\"\u001b[0m\u001b[0;34m]\u001b[0m\u001b[0;34m.\u001b[0m\u001b[0mappend\u001b[0m\u001b[0;34m(\u001b[0m\u001b[0mn_items\u001b[0m\u001b[0;34m)\u001b[0m\u001b[0;34m\u001b[0m\u001b[0;34m\u001b[0m\u001b[0m\n",
      "\u001b[0;32m~/Projects/PMTK-CPLEX/PMTK/utility/utility_solver.py\u001b[0m in \u001b[0;36mget_kernels\u001b[0;34m(preferences, theta)\u001b[0m\n\u001b[1;32m    289\u001b[0m     \u001b[0;32mwhile\u001b[0m \u001b[0mk\u001b[0m\u001b[0;34m:\u001b[0m\u001b[0;34m\u001b[0m\u001b[0;34m\u001b[0m\u001b[0m\n\u001b[1;32m    290\u001b[0m         \u001b[0mfound\u001b[0m\u001b[0;34m.\u001b[0m\u001b[0mappend\u001b[0m\u001b[0;34m(\u001b[0m\u001b[0mk\u001b[0m\u001b[0;34m)\u001b[0m\u001b[0;34m\u001b[0m\u001b[0;34m\u001b[0m\u001b[0m\n\u001b[0;32m--> 291\u001b[0;31m         \u001b[0mk\u001b[0m \u001b[0;34m=\u001b[0m \u001b[0mget_kernel\u001b[0m\u001b[0;34m(\u001b[0m\u001b[0mpreferences\u001b[0m\u001b[0;34m,\u001b[0m \u001b[0mtheta\u001b[0m\u001b[0;34m,\u001b[0m \u001b[0mfound\u001b[0m\u001b[0;34m)\u001b[0m\u001b[0;34m\u001b[0m\u001b[0;34m\u001b[0m\u001b[0m\n\u001b[0m\u001b[1;32m    292\u001b[0m         \u001b[0;31m#print(\"Found = \", found)\u001b[0m\u001b[0;34m\u001b[0m\u001b[0;34m\u001b[0m\u001b[0;34m\u001b[0m\u001b[0m\n\u001b[1;32m    293\u001b[0m     \u001b[0;32mreturn\u001b[0m \u001b[0mfound\u001b[0m\u001b[0;34m\u001b[0m\u001b[0;34m\u001b[0m\u001b[0m\n",
      "\u001b[0;32m~/Projects/PMTK-CPLEX/PMTK/utility/utility_solver.py\u001b[0m in \u001b[0;36mget_kernel\u001b[0;34m(preferences, theta, found)\u001b[0m\n\u001b[1;32m    219\u001b[0m     \u001b[0;31m#print(\"Size:\", size_obj.solution_value)\u001b[0m\u001b[0;34m\u001b[0m\u001b[0;34m\u001b[0m\u001b[0;34m\u001b[0m\u001b[0m\n\u001b[1;32m    220\u001b[0m     \u001b[0;32mif\u001b[0m \u001b[0mmdl\u001b[0m\u001b[0;34m.\u001b[0m\u001b[0mslack_sum\u001b[0m\u001b[0;34m.\u001b[0m\u001b[0msolution_value\u001b[0m \u001b[0;34m!=\u001b[0m \u001b[0;36m0\u001b[0m\u001b[0;34m:\u001b[0m\u001b[0;34m\u001b[0m\u001b[0;34m\u001b[0m\u001b[0m\n\u001b[0;32m--> 221\u001b[0;31m         \u001b[0;32mraise\u001b[0m \u001b[0mException\u001b[0m\u001b[0;34m(\u001b[0m\u001b[0;34m\"Empty Polyhedron\"\u001b[0m\u001b[0;34m)\u001b[0m\u001b[0;34m\u001b[0m\u001b[0;34m\u001b[0m\u001b[0m\n\u001b[0m\u001b[1;32m    222\u001b[0m     \u001b[0;32mif\u001b[0m \u001b[0mvalid\u001b[0m\u001b[0;34m.\u001b[0m\u001b[0msolution_value\u001b[0m \u001b[0;34m!=\u001b[0m \u001b[0;36m1\u001b[0m\u001b[0;34m:\u001b[0m\u001b[0;34m\u001b[0m\u001b[0;34m\u001b[0m\u001b[0m\n\u001b[1;32m    223\u001b[0m         \u001b[0;32mreturn\u001b[0m \u001b[0;32mNone\u001b[0m\u001b[0;34m\u001b[0m\u001b[0;34m\u001b[0m\u001b[0m\n",
      "\u001b[0;31mException\u001b[0m: Empty Polyhedron"
     ]
    }
   ],
   "source": [
    "data = {\n",
    "    \"n_pref\":[],\n",
    "    \"n_items\":[],\n",
    "    \"method\":[],\n",
    "    \"MSS\":[]\n",
    "}\n",
    "n_items = 5\n",
    "for d in tqdm(np.linspace(0.1,0.3,50)):\n",
    "    for _ in range(10):\n",
    "        items = np.arange(n_items)\n",
    "        prf = sample_preferences_from_order(items, d*(2**(n_items+1)), indifference_rate= 0)\n",
    "        theta = build_approx_theta(prf)\n",
    "        \n",
    "        t2 = get_kernels(prf, theta)\n",
    "        data[\"n_pref\"].append(len(prf))\n",
    "        data[\"n_items\"].append(n_items)\n",
    "        data[\"method\"].append(\"LEX\")\n",
    "        data[\"MSS\"].append(len(t2))\n",
    "        \n",
    "        t = get_kernels_opt(prf, theta)\n",
    "        data[\"n_pref\"].append(len(prf))\n",
    "        data[\"n_items\"].append(n_items)\n",
    "        data[\"method\"].append(\"LEX+\")\n",
    "        data[\"MSS\"].append(len(t))\n",
    "        df = pd.DataFrame(data)\n",
    "        df.to_csv(\"kernel_stats.csv\")\n",
    "    "
   ]
  },
  {
   "cell_type": "code",
   "execution_count": 18,
   "id": "92064192-18df-4137-b622-3d486b351953",
   "metadata": {},
   "outputs": [
    {
     "data": {
      "text/plain": [
       "<AxesSubplot:xlabel='n_pref', ylabel='MSS'>"
      ]
     },
     "execution_count": 18,
     "metadata": {},
     "output_type": "execute_result"
    },
    {
     "data": {
      "image/png": "[encoded data removed]",
      "text/plain": [
       "<Figure size 432x288 with 1 Axes>"
      ]
     },
     "metadata": {
      "needs_background": "light"
     },
     "output_type": "display_data"
    }
   ],
   "source": [
    "sns.lineplot(x = \"n_pref\", y = \"MSS\",hue = \"method\",  data = df) "
   ]
  },
  {
   "cell_type": "code",
   "execution_count": null,
   "id": "53dcf39f-8fe2-4296-9615-605d4b205bcd",
   "metadata": {},
   "outputs": [],
   "source": []
  },
  {
   "cell_type": "code",
   "execution_count": null,
   "id": "296a8726-e14a-4cd1-a8ed-46d6c8bd6ac5",
   "metadata": {},
   "outputs": [],
   "source": []
  }
 ],
 "metadata": {
  "kernelspec": {
   "display_name": "Python 3.7",
   "language": "python",
   "name": "py37"
  },
  "language_info": {
   "codemirror_mode": {
    "name": "ipython",
    "version": 3
   },
   "file_extension": ".py",
   "mimetype": "text/x-python",
   "name": "python",
   "nbconvert_exporter": "python",
   "pygments_lexer": "ipython3",
   "version": "3.7.12"
  }
 },
 "nbformat": 4,
 "nbformat_minor": 5
}
