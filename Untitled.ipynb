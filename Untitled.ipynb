{
 "cells": [
  {
   "cell_type": "code",
   "execution_count": 115,
   "id": "1e3e4acc",
   "metadata": {},
   "outputs": [
    {
     "ename": "SyntaxError",
     "evalue": "invalid syntax (2550808079.py, line 1)",
     "output_type": "error",
     "traceback": [
      "\u001b[1;36m  Input \u001b[1;32mIn [115]\u001b[1;36m\u001b[0m\n\u001b[1;33m    glm::vec3 r = glm::vec3(glm::pi<float>()/3, -glm::pi<float>()/2, 0);\u001b[0m\n\u001b[1;37m        ^\u001b[0m\n\u001b[1;31mSyntaxError\u001b[0m\u001b[1;31m:\u001b[0m invalid syntax\n"
     ]
    }
   ],
   "source": [
    "glm::vec3 r = glm::vec3(glm::pi<float>()/3, -glm::pi<float>()/2, 0);\n",
    "        glm::quat rot = glm::quat(r);\n",
    "        glm::vec3 cartesian = r*glm::vec3(0, 0, 1);\n",
    "\n",
    "        glm::vec3 original_rot;\n",
    "        original_rot.x = glm::acos(cartesian.z);\n",
    "        original_rot.y = std::atan2(cartesian.y, cartesian.x);\n",
    "        original_rot.z = 0;\n",
    "\n",
    "        std::cout << glm::to_string(glm::degrees(r)) << std::endl;\n",
    "        std::cout << glm::to_string(glm::degrees(original_rot)) << std::endl;\n",
    "\n",
    "        // glm::quat new_rot = glm::quat(original_rot);"
   ]
  },
  {
   "cell_type": "code",
   "execution_count": 58,
   "id": "1084b54c",
   "metadata": {},
   "outputs": [
    {
     "name": "stdout",
     "output_type": "stream",
     "text": [
      "vec3(        -0.25,    -0.866025,     0.433013 )\n",
      "vec3(           60,          -30,            0 )\n",
      "vec3(     -106.102,      64.3411,            0 )\n",
      "\n",
      "vec3(        -0.25,    -0.866025,     0.433013 )\n",
      "vec3(        -0.25,     0.960769,    -0.120096 )\n"
     ]
    }
   ],
   "source": [
    "import glm\n",
    "rotation = glm.vec3(glm.pi()/3, -glm.pi()/6, 0);\n",
    "rotation_q = glm.quat(rotation)\n",
    "normal_vector = glm.vec3(0, 0, 1)\n",
    "rotated_vector = rotation_q*normal_vector\n",
    "\n",
    "print(rotated_vector)\n",
    "\n",
    "new_rot = glm.vec3(0, 0, 0)\n",
    "new_rot.y = glm.acos(rotated_vector.z/glm.length(rotated_vector))\n",
    "new_rot.x = glm.atan2(rotated_vector.y, rotated_vector.x)\n",
    "new_rot.z = 0\n",
    "\n",
    "print(glm.degrees(rotation))\n",
    "print(glm.degrees(new_rot))\n",
    "\n",
    "print()\n",
    "test_vec = glm.vec3(0, 0, 1)\n",
    "res1 = (glm.quat(rotation)*test_vec)\n",
    "res2 = (glm.quat(new_rot)*test_vec) \n",
    "print(res1)\n",
    "print(res2)"
   ]
  },
  {
   "cell_type": "code",
   "execution_count": 28,
   "id": "76bdd3b7-849e-4a6e-8dc2-4bf971d96874",
   "metadata": {},
   "outputs": [],
   "source": [
    "import numpy as np"
   ]
  },
  {
   "cell_type": "code",
   "execution_count": 33,
   "id": "55aadd4b",
   "metadata": {},
   "outputs": [],
   "source": [
    "def cart_to_sph(*cart_point):\n",
    "    x,y,z = cart_point\n",
    "    r = np.sqrt(x**2 + y**2 + z**2)\n",
    "    \n",
    "    theta = np.arccos(z / r)\n",
    "    phi = np.arctan2(y,x)\n",
    "    sph = np.array([r,theta,phi])\n",
    "    return sph"
   ]
  },
  {
   "cell_type": "code",
   "execution_count": 46,
   "id": "065e60ab-22a3-4458-87e3-717aead665a8",
   "metadata": {},
   "outputs": [
    {
     "data": {
      "text/plain": [
       "array([1.        , 1.57079633, 3.14159265])"
      ]
     },
     "execution_count": 46,
     "metadata": {},
     "output_type": "execute_result"
    }
   ],
   "source": [
    "cart_to_sph(-1,0,0)"
   ]
  },
  {
   "cell_type": "code",
   "execution_count": 35,
   "id": "232117a6-1e5e-46c3-81eb-db73c5289e26",
   "metadata": {},
   "outputs": [
    {
     "data": {
      "text/plain": [
       "1.5707963267948966"
      ]
     },
     "execution_count": 35,
     "metadata": {},
     "output_type": "execute_result"
    }
   ],
   "source": [
    "np.pi / 2"
   ]
  },
  {
   "cell_type": "code",
   "execution_count": null,
   "id": "2cac32d3-d085-49b9-acd3-e7b5421e01e2",
   "metadata": {},
   "outputs": [],
   "source": []
  }
 ],
 "metadata": {
  "kernelspec": {
   "display_name": "Python 3 (ipykernel)",
   "language": "python",
   "name": "python3"
  },
  "language_info": {
   "codemirror_mode": {
    "name": "ipython",
    "version": 3
   },
   "file_extension": ".py",
   "mimetype": "text/x-python",
   "name": "python",
   "nbconvert_exporter": "python",
   "pygments_lexer": "ipython3",
   "version": "3.9.10"
  }
 },
 "nbformat": 4,
 "nbformat_minor": 5
}
