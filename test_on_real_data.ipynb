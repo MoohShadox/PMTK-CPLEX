{
 "cells": [
  {
   "cell_type": "code",
   "execution_count": 1,
   "id": "4a37af02-36fa-498f-a722-a42040da40de",
   "metadata": {},
   "outputs": [],
   "source": [
    "import pandas as pd\n",
    "import numpy as np\n",
    "from collections import Counter\n",
    "from PMTK.sampling.preferences_sampler import *\n",
    "from PMTK.pref.preferences import *\n",
    "from PMTK.utility.utility_solver import *\n",
    "from PMTK.sampling.subset_samplers import *\n",
    "from PMTK.utility.model_solver import *\n",
    "from PMTK.utility.subset_finder import *\n",
    "from PMTK.sampling.gibbs import *\n",
    "from PMTK.data.film_dataset import *\n",
    "from PMTK.sampling.decider import *\n",
    "from PMTK.utility.heuristics import * \n",
    "from surprise import SVD\n",
    "from surprise import Dataset\n",
    "from surprise.model_selection import cross_validate\n"
   ]
  },
  {
   "cell_type": "code",
   "execution_count": 2,
   "id": "8e79e848-19b0-4beb-a6a7-a1736a0ac714",
   "metadata": {
    "scrolled": true,
    "tags": []
   },
   "outputs": [],
   "source": [
    "n_users = 10\n",
    "n_films = 50\n",
    "fd = Film_Dataset(n_films,n_users + 1)\n",
    "prf = fd.get_preferences_items(n_users + 1)\n",
    "t_heuristic = build_approx_theta(prf, [EMPTY_SET])"
   ]
  },
  {
   "cell_type": "code",
   "execution_count": 3,
   "id": "4dbd8feb-de1d-445a-9814-bd12444407ad",
   "metadata": {},
   "outputs": [],
   "source": [
    "t_mins = get_kernels_lex3(prf,t_heuristic)"
   ]
  },
  {
   "cell_type": "code",
   "execution_count": 27,
   "id": "d983295d-596a-4542-ad98-c3da7cc8225b",
   "metadata": {},
   "outputs": [],
   "source": [
    "class Simple_DM:\n",
    "    \n",
    "    def __init__(self, items):\n",
    "        self.alternatives = []\n",
    "        self.rates = []\n",
    "        self.items = items\n",
    "    \n",
    "    def rate_alternative(self, alt, rate):\n",
    "        alt = tuple(alt)\n",
    "        if alt in self.alternatives:\n",
    "            i = self.alternatives.index(alt)\n",
    "            self.alternatives.remove(alt)\n",
    "            self.rates.remove(self.rates[i])\n",
    "        self.alternatives.append(alt)\n",
    "        self.rates.append(rate)\n",
    "        \n",
    "    \n",
    "    def rate_binary_alternative(self, b_alternative, rate):\n",
    "        alt = tuple(np.where(b_alternative == 1)[0])\n",
    "        if alt in self.alternatives:\n",
    "            i = self.alternatives.index(alt)\n",
    "            self.alternatives.remove(alt)\n",
    "            self.rates.remove(self.rates[i])\n",
    "            \n",
    "        self.alternatives.append(alt)\n",
    "        self.rates.append(rate)\n",
    "            \n",
    "        \n",
    "    def preferences(self):\n",
    "        prf = Preferences(self.items)\n",
    "        for alt_1, r_1 in zip(self.alternatives, self.rates):\n",
    "            for alt_2, r_2 in zip(self.alternatives, self.rates):\n",
    "                if r_1 > r_2:\n",
    "                    prf.add_preference(alt_1, alt_2)\n",
    "        return prf"
   ]
  },
  {
   "cell_type": "code",
   "execution_count": 36,
   "id": "f921396c-044a-447a-9b38-fc8e4b191a9e",
   "metadata": {},
   "outputs": [],
   "source": [
    "def rates_to_preferences(items, alternatives, rates):\n",
    "    sdm = Simple_DM(items)\n",
    "    for alt, r in zip(alternatives, rates):\n",
    "        sdm.rate_binary_alternative(alt, r)\n",
    "    return sdm.preferences()\n",
    "\n",
    "def rates_to_binary(rates_matrix, targeted_user, rate_encoder):\n",
    "    X = np.hstack([rates_matrix[:, :targeted_user], rates_matrix[:, targeted_user+1:]])\n",
    "    rates = rates_matrix[:, targeted_user]\n",
    "    encoded_mat = []\n",
    "    for v in X:\n",
    "        L = []\n",
    "        for i in v:\n",
    "            r_e = rate_encoder(i)\n",
    "            if r_e != None:\n",
    "                L = L + rate_encoder(i)\n",
    "        L = np.array(L)\n",
    "        encoded_mat.append(L)\n",
    "    encoded_mat = np.array(encoded_mat)\n",
    "    pos = np.where(rates != -1)[0]\n",
    "    rates = rates[pos]\n",
    "    encoded_mat = encoded_mat[pos, :]\n",
    "    return encoded_mat, rates"
   ]
  },
  {
   "cell_type": "code",
   "execution_count": 29,
   "id": "f8b2545a-7fa7-4862-96ab-1a975752232f",
   "metadata": {},
   "outputs": [],
   "source": [
    "def rates_enc(x):\n",
    "    if x == -1:\n",
    "        return [0,0]\n",
    "    if x <= 3 and x >= 2:\n",
    "        return [0,0]\n",
    "    if x > 3:\n",
    "        return [1,1]\n",
    "    if x < 2:\n",
    "        return [1,0]\n",
    "    return None"
   ]
  },
  {
   "cell_type": "code",
   "execution_count": 43,
   "id": "8bbd8710-619d-42a4-a36e-5c7f9a9611c7",
   "metadata": {},
   "outputs": [],
   "source": [
    "def get_rates_matrix(f_path, targeted_user, bound_films = 50, bound_users = 5):\n",
    "    df = pd.read_csv(f_path)\n",
    "    \n",
    "    u_df = pd.read_csv(f_path)\n",
    "    u_df = u_df[u_df.rating > 0].groupby(\"userId\").count().reset_index()\n",
    "    count_u = {u:m for u,m in zip(u_df[\"userId\"], u_df[\"movieId\"])}\n",
    "    count_u = {i:j for i,j in sorted(count_u.items(), key = lambda x:x[1], reverse= True)}\n",
    "    targeted_id = list(count_u.keys())[targeted_user]\n",
    "    \n",
    "    \n",
    "    target_df = df[df.userId == targeted_id]\n",
    "\n",
    "    \n",
    "    m_df = df[df.movieId.isin(target_df.movieId)].groupby(\"movieId\").count().reset_index()\n",
    "    count_m = {m:u for u,m in zip(m_df[\"userId\"], m_df[\"movieId\"])}\n",
    "    count_m = {i:j for i,j in sorted(count_m.items(), key = lambda x:x[1], reverse= True)}\n",
    "    films_id = list(count_m.keys())[:bound_films]\n",
    "    #print(count_m)\n",
    "    \n",
    "    user_df = df[df.movieId.isin(films_id)]\n",
    "    user_df = user_df.groupby(\"userId\").count().reset_index()\n",
    "    count_u = {u:m for u,m in zip(user_df[\"userId\"], user_df[\"movieId\"])}\n",
    "    count_u = {i:j for i,j in sorted(count_u.items(), key = lambda x:x[1], reverse= True)}\n",
    "    users_id = list(count_u.keys())[:bound_users]\n",
    "    if targeted_id in users_id:\n",
    "        users_id = list(count_u.keys())[:bound_users+1]\n",
    "        users_id.remove(targeted_id)\n",
    "    users_id = [targeted_id] + users_id\n",
    "    \n",
    "    print(users_id)\n",
    "    print(films_id)\n",
    "\n",
    "    \n",
    "    rates_matrix = np.zeros((len(films_id), len(users_id))) + 188\n",
    "    for u in users_id:\n",
    "        for f in films_id:\n",
    "            x = df[(df.movieId == f) & (df.userId == u)]\n",
    "            if x.shape[0] == 0:\n",
    "                rates_matrix[films_id.index(f), users_id.index(u)] = -1\n",
    "            else:\n",
    "                rates_matrix[films_id.index(f), users_id.index(u)] = x[\"rating\"].values[0]\n",
    "    \n",
    "                \n",
    "    return rates_matrix\n",
    "\n",
    "def matrix_to_df(mat):\n",
    "    user_ids = np.arange(mat.shape[1])\n",
    "    movie_ids = np.arange(mat.shape[0])\n",
    "    data = {\n",
    "        \"movieId\":[],\n",
    "        \"userId\":[],\n",
    "        \"rating\":[]\n",
    "    }\n",
    "    for u in user_ids:\n",
    "        for m in movie_ids:\n",
    "            data[\"movieId\"].append(m)\n",
    "            data[\"userId\"].append(u)\n",
    "            data[\"rating\"].append(mat[m,u])\n",
    "    df = pd.DataFrame(data)\n",
    "    return df\n",
    "            "
   ]
  },
  {
   "cell_type": "code",
   "execution_count": 32,
   "id": "7a7707c7-2a89-455f-8000-e2ec2de2d938",
   "metadata": {},
   "outputs": [
    {
     "name": "stdout",
     "output_type": "stream",
     "text": [
      "[599, 414, 68, 274, 483, 590]\n",
      "[356, 318, 296, 593, 2571, 260, 480, 110, 589, 2959, 1, 1196, 50, 2858, 47, 780, 150, 1198, 4993, 1210, 858, 457, 592, 2028, 5952, 7153, 588, 608, 2762, 380, 32, 364, 377, 1270, 3578, 4306, 1580, 648, 344, 4226, 367, 6539, 58559, 595, 1214, 1036, 165, 500, 1265, 79132]\n"
     ]
    }
   ],
   "source": [
    "rates_mat = get_rates_matrix(\"data/ratings.csv\", 1)"
   ]
  },
  {
   "cell_type": "code",
   "execution_count": 34,
   "id": "3d022d76-d1e4-4ef7-9aa0-bd9657e21698",
   "metadata": {},
   "outputs": [],
   "source": [
    "b_mat, rates = rates_to_binary(rates_mat, 0, rates_enc)\n"
   ]
  },
  {
   "cell_type": "code",
   "execution_count": 37,
   "id": "91e336b1-6b05-4239-add4-d41fe407d399",
   "metadata": {},
   "outputs": [],
   "source": [
    "p = rates_to_preferences(np.arange(b_mat.shape[1]), b_mat, rates)"
   ]
  },
  {
   "cell_type": "code",
   "execution_count": null,
   "id": "90f2a9a6-a68b-4362-9532-5bdd0a8be532",
   "metadata": {},
   "outputs": [],
   "source": [
    "def train_dec_knn_model(decomposition, knn):\n",
    "    "
   ]
  },
  {
   "cell_type": "code",
   "execution_count": 44,
   "id": "fdf656ee-1f4e-46ee-83f7-7dd41f186925",
   "metadata": {},
   "outputs": [],
   "source": [
    "from sklearn.decomposition import TruncatedSVD"
   ]
  },
  {
   "cell_type": "code",
   "execution_count": 46,
   "id": "993d9174-4ed7-45be-bf8f-64ce522528ef",
   "metadata": {},
   "outputs": [],
   "source": [
    "movie_svd = TruncatedSVD(n_components=3)\n",
    "movie_features = movie_svd.fit_transform(rates_mat)"
   ]
  },
  {
   "cell_type": "code",
   "execution_count": 47,
   "id": "5b57a3c6-b952-441e-ba12-2b854904166f",
   "metadata": {},
   "outputs": [
    {
     "data": {
      "text/plain": [
       "array([[ 1.08710039e+01,  7.13788568e-01, -5.33019037e-01],\n",
       "       [ 1.06645202e+01,  1.24834084e+00, -3.82488497e-01],\n",
       "       [ 1.08620099e+01,  2.28170302e+00, -5.90609651e-01],\n",
       "       [ 6.97906650e+00, -2.24381750e+00,  8.41623852e-02],\n",
       "       [ 1.10155090e+01, -1.33636685e-01,  2.66607452e-01],\n",
       "       [ 1.12171113e+01, -1.01358253e+00, -7.84114546e-01],\n",
       "       [ 9.38372873e+00,  1.12655737e-01, -2.56901543e-01],\n",
       "       [ 9.67278368e+00,  1.18294775e+00, -2.46860224e-01],\n",
       "       [ 1.06438482e+01,  4.06666494e-01, -2.74765868e-01],\n",
       "       [ 1.04422927e+01,  1.82696310e+00,  3.34102958e-01],\n",
       "       [ 8.81807196e+00,  9.46543987e-01, -3.59731508e-01],\n",
       "       [ 1.18181870e+01, -5.60713479e-01, -4.09814945e-02],\n",
       "       [ 1.00715352e+01,  7.97411808e-01, -6.37650648e-01],\n",
       "       [ 1.09965089e+01, -2.86463900e-01,  1.68674210e+00],\n",
       "       [ 9.16437010e+00, -1.91127829e-01,  9.15522084e-01],\n",
       "       [ 8.98148349e+00, -8.28755572e-01, -9.65333189e-02],\n",
       "       [ 6.21361061e+00, -2.09798858e+00, -3.12246794e+00],\n",
       "       [ 1.08436288e+01, -1.11137947e+00, -2.43498051e-01],\n",
       "       [ 1.04382678e+01, -6.28635707e-01, -5.54615614e-01],\n",
       "       [ 1.14127793e+01, -6.18320473e-01,  8.97541144e-02],\n",
       "       [ 1.04496147e+01, -4.29798478e-01, -9.20718442e-01],\n",
       "       [ 9.24464463e+00, -1.48448375e+00, -1.09081001e-02],\n",
       "       [ 8.77791556e+00, -6.36258369e-01,  6.79762209e-02],\n",
       "       [ 1.00490883e+01, -1.42011897e-01,  1.10208624e-01],\n",
       "       [ 1.02698813e+01, -2.79431245e-01, -8.34298917e-01],\n",
       "       [ 9.39128824e+00, -1.01405580e+00, -4.27227014e-01],\n",
       "       [ 9.20251406e+00,  1.63875124e-01,  4.34550689e-02],\n",
       "       [ 9.07170798e+00,  7.30078697e-01, -9.89993275e-01],\n",
       "       [ 8.13840300e+00,  8.04078699e-01,  6.71353256e-02],\n",
       "       [ 8.79241565e+00,  3.50573836e-01,  8.00348321e-01],\n",
       "       [ 7.92967240e+00,  4.40837105e+00, -1.05496035e+00],\n",
       "       [ 9.79200537e+00, -7.12143097e-01,  6.81950198e-02],\n",
       "       [ 8.15952106e+00, -2.22490680e+00,  9.88547514e-01],\n",
       "       [ 9.87117664e+00,  6.46455457e-01, -8.85361665e-01],\n",
       "       [ 9.85193907e+00, -6.36421802e-01, -5.49722950e-01],\n",
       "       [ 9.38803203e+00, -1.21095301e+00,  4.26846714e-01],\n",
       "       [ 7.98160943e+00, -1.43643944e+00, -7.02277475e-03],\n",
       "       [ 8.18196800e+00, -1.28548309e+00,  2.40688242e-01],\n",
       "       [ 7.49041242e+00,  1.16317271e+00,  8.88229430e-01],\n",
       "       [ 1.04259709e+01,  2.02030775e-01,  6.83720673e-01],\n",
       "       [ 8.19651493e+00,  2.41699873e-01,  5.31207170e-01],\n",
       "       [ 9.82017387e+00, -1.04220719e+00,  6.20299263e-01],\n",
       "       [ 1.03753716e+01, -9.02652696e-01,  4.91176528e-01],\n",
       "       [ 8.91666848e+00, -1.24987044e+00, -3.78806807e-01],\n",
       "       [ 1.00576131e+01,  1.47958192e+00, -1.15357955e+00],\n",
       "       [ 9.65359294e+00,  4.40421252e-01, -3.53074681e-01],\n",
       "       [ 8.53068895e+00,  5.65099104e-01,  9.42639188e-01],\n",
       "       [ 7.32902189e+00,  2.47661796e-01,  5.56522629e-01],\n",
       "       [ 9.80368343e+00,  1.69744570e+00, -9.71182234e-02],\n",
       "       [ 8.99664850e+00,  7.61065417e-01,  4.88715415e+00]])"
      ]
     },
     "execution_count": 47,
     "metadata": {},
     "output_type": "execute_result"
    }
   ],
   "source": [
    "movie_features"
   ]
  },
  {
   "cell_type": "code",
   "execution_count": null,
   "id": "b1711a2d-3668-49d2-9caf-03150f15fe40",
   "metadata": {},
   "outputs": [],
   "source": []
  }
 ],
 "metadata": {
  "kernelspec": {
   "display_name": "Python 3 (ipykernel)",
   "language": "python",
   "name": "python3"
  },
  "language_info": {
   "codemirror_mode": {
    "name": "ipython",
    "version": 3
   },
   "file_extension": ".py",
   "mimetype": "text/x-python",
   "name": "python",
   "nbconvert_exporter": "python",
   "pygments_lexer": "ipython3",
   "version": "3.9.12"
  }
 },
 "nbformat": 4,
 "nbformat_minor": 5
}
