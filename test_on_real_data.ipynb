{
 "cells": [
  {
   "cell_type": "code",
   "execution_count": 1,
   "id": "4a37af02-36fa-498f-a722-a42040da40de",
   "metadata": {},
   "outputs": [],
   "source": [
    "import pandas as pd\n",
    "import numpy as np\n",
    "from collections import Counter\n",
    "from PMTK.sampling.preferences_sampler import *\n",
    "from PMTK.pref.preferences import *\n",
    "from PMTK.utility.utility_solver import *\n",
    "from PMTK.sampling.subset_samplers import *\n",
    "from PMTK.utility.model_solver import *\n",
    "from PMTK.utility.subset_finder import *\n",
    "from PMTK.sampling.gibbs import *\n",
    "from PMTK.data.film_dataset import *\n",
    "from PMTK.sampling.decider import *\n",
    "from surprise import SVD\n",
    "from surprise import Dataset\n",
    "from surprise.model_selection import cross_validate\n",
    "\n",
    "def build_approx_theta(prf, init_theta = None):\n",
    "    connivents = []\n",
    "    if not init_theta:\n",
    "        init_theta = [EMPTY_SET]\n",
    "    theta = init_theta\n",
    "    min_k = 1\n",
    "    c  = get_connivent(theta, prf)\n",
    "    cpt = 0\n",
    "    while c:\n",
    "        if not c in connivents:\n",
    "            connivents.append(c)\n",
    "        cit = get_candidate_iterator(c)\n",
    "        skey = sorted(cit.keys())[0]\n",
    "        b = False\n",
    "        for k in cit:\n",
    "            if b:\n",
    "                break\n",
    "            for i in cit[k]:\n",
    "                s = set(i)\n",
    "                for t in s:\n",
    "                    b = b or (check_connivence_resolution(c, t) and not t in theta)\n",
    "                    if not t in theta and check_connivence_resolution(c, t):\n",
    "                        theta.append(t)\n",
    "        c  = get_connivent(theta, prf)\n",
    "        cpt = cpt + 1\n",
    "        print(\"solved connivent: \", cpt, \" with\", theta)\n",
    "    a = additivity(theta)\n",
    "    for c_i in connivents:\n",
    "        cit = get_candidate_iterator(c_i)\n",
    "        for k in cit:\n",
    "            if k > a:\n",
    "                break\n",
    "            for i in cit[k]:\n",
    "                for t in i:\n",
    "                    if not t in theta and check_connivence_resolution(c_i,t):\n",
    "                        theta.append(t)\n",
    "    \n",
    "    return theta"
   ]
  },
  {
   "cell_type": "code",
   "execution_count": 22,
   "id": "8e79e848-19b0-4beb-a6a7-a1736a0ac714",
   "metadata": {
    "scrolled": true,
    "tags": []
   },
   "outputs": [
    {
     "name": "stdout",
     "output_type": "stream",
     "text": [
      "solved connivent:  1  with [(5,), (4,)]\n",
      "solved connivent:  2  with [(5,), (4,), (20,)]\n",
      "solved connivent:  3  with [(5,), (4,), (20,), (2,), (8,), (6,), (3,), (9,), (7,)]\n",
      "solved connivent:  4  with [(5,), (4,), (20,), (2,), (8,), (6,), (3,), (9,), (7,), (18,), (19,)]\n"
     ]
    },
    {
     "data": {
      "text/plain": [
       "[(5,), (4,), (20,), (2,), (8,), (6,), (3,), (9,), (7,), (18,), (19,)]"
      ]
     },
     "execution_count": 22,
     "metadata": {},
     "output_type": "execute_result"
    }
   ],
   "source": [
    "n_users = 10\n",
    "fd = Film_Dataset(100,n_users + 1)\n",
    "prf = fd.get_preferences_items(n_users)\n",
    "t_heuristic = build_approx_theta(prf, [EMPTY_SET])\n",
    "t_heuristic"
   ]
  },
  {
   "cell_type": "code",
   "execution_count": 23,
   "id": "4dbd8feb-de1d-445a-9814-bd12444407ad",
   "metadata": {},
   "outputs": [
    {
     "data": {
      "text/plain": [
       "[[(4,), (20,), (8,), (18,)],\n",
       " [(4,), (20,), (9,), (18,)],\n",
       " [(5,), (20,), (8,), (18,)],\n",
       " [(4,), (20,), (8,), (19,)],\n",
       " [(5,), (20,), (9,), (19,)],\n",
       " [(5,), (20,), (8,), (19,)],\n",
       " [(4,), (20,), (9,), (19,)],\n",
       " [(5,), (20,), (9,), (18,)]]"
      ]
     },
     "execution_count": 23,
     "metadata": {},
     "output_type": "execute_result"
    }
   ],
   "source": [
    "t_mins = get_kernels_lex3(prf,t_heuristic)\n",
    "t_mins"
   ]
  },
  {
   "cell_type": "code",
   "execution_count": 24,
   "id": "4e1d12c9-a3c4-4beb-b90b-6f9a8dbb50a2",
   "metadata": {},
   "outputs": [
    {
     "data": {
      "text/plain": [
       "(0, 2, 4, 7, 8, 10, 13, 14, 16, 18, 20) > (0, 2, 4, 6, 8, 10, 12, 14, 16, 18) \n",
       "(0, 2, 4, 6, 8, 10, 12, 14, 16, 18) > (1, 2, 5, 7, 8, 11, 13, 14, 17, 19) \n",
       "(0, 2, 4, 6, 8, 10, 12, 14, 16, 18) > (0, 3, 5, 7, 9, 11, 12, 14, 17, 19) \n",
       "(0, 2, 4, 6, 8, 10, 12, 14, 16, 18) > (1, 3, 5, 6, 8, 11, 13, 15, 17, 19) \n",
       "(0, 2, 4, 6, 8, 10, 12, 14, 16, 18, 20) > (0, 2, 4, 6, 8, 10, 12, 14, 16, 18) \n",
       "(0, 2, 4, 6, 8, 10, 12, 14, 16, 18) > (0, 2, 5, 6, 8, 11, 12, 14, 17, 19) \n",
       "(0, 2, 4, 7, 8, 10, 12, 14, 16, 18, 20) > (0, 2, 4, 6, 8, 10, 12, 14, 16, 18) \n",
       "(0, 2, 4, 7, 8, 10, 13, 14, 16, 18, 20) > (0, 2, 4, 6, 8, 11, 12, 14, 17, 19) \n",
       "(0, 2, 4, 6, 8, 11, 12, 14, 17, 19) > (1, 2, 5, 7, 8, 11, 13, 14, 17, 19) \n",
       "(0, 2, 4, 6, 8, 11, 12, 14, 17, 19) > (0, 3, 5, 7, 9, 11, 12, 14, 17, 19) \n",
       "(0, 2, 4, 6, 8, 11, 12, 14, 17, 19) > (1, 3, 5, 6, 8, 11, 13, 15, 17, 19) \n",
       "(0, 2, 4, 6, 8, 10, 12, 14, 16, 18, 20) > (0, 2, 4, 6, 8, 11, 12, 14, 17, 19) \n",
       "(0, 2, 4, 6, 8, 11, 12, 14, 17, 19) > (0, 2, 5, 6, 8, 11, 12, 14, 17, 19) \n",
       "(0, 2, 4, 7, 8, 10, 12, 14, 16, 18, 20) > (0, 2, 4, 6, 8, 11, 12, 14, 17, 19) \n",
       "(0, 2, 4, 7, 8, 10, 13, 14, 16, 18, 20) > (1, 2, 5, 7, 8, 11, 13, 14, 17, 19) \n",
       "(0, 2, 4, 7, 8, 10, 13, 14, 16, 18, 20) > (0, 3, 5, 7, 9, 11, 12, 14, 17, 19) \n",
       "(0, 2, 4, 7, 8, 10, 13, 14, 16, 18, 20) > (1, 3, 5, 6, 8, 11, 13, 15, 17, 19) \n",
       "(0, 2, 4, 7, 8, 10, 13, 14, 16, 18, 20) > (0, 2, 4, 6, 8, 10, 12, 14, 16, 19, 20) \n",
       "(0, 2, 4, 7, 8, 10, 13, 14, 16, 18, 20) > (0, 2, 5, 6, 8, 11, 12, 14, 17, 19) \n",
       "(1, 2, 5, 7, 8, 11, 13, 14, 17, 19) > (0, 3, 5, 7, 9, 11, 12, 14, 17, 19) \n",
       "(0, 2, 4, 6, 8, 10, 12, 14, 16, 18, 20) > (1, 2, 5, 7, 8, 11, 13, 14, 17, 19) \n",
       "(0, 2, 4, 6, 8, 10, 12, 14, 16, 19, 20) > (1, 2, 5, 7, 8, 11, 13, 14, 17, 19) \n",
       "(0, 2, 4, 7, 8, 10, 12, 14, 16, 18, 20) > (1, 2, 5, 7, 8, 11, 13, 14, 17, 19) \n",
       "(1, 3, 5, 6, 8, 11, 13, 15, 17, 19) > (0, 3, 5, 7, 9, 11, 12, 14, 17, 19) \n",
       "(0, 2, 4, 6, 8, 10, 12, 14, 16, 18, 20) > (0, 3, 5, 7, 9, 11, 12, 14, 17, 19) \n",
       "(0, 2, 4, 6, 8, 10, 12, 14, 16, 19, 20) > (0, 3, 5, 7, 9, 11, 12, 14, 17, 19) \n",
       "(0, 2, 5, 6, 8, 11, 12, 14, 17, 19) > (0, 3, 5, 7, 9, 11, 12, 14, 17, 19) \n",
       "(0, 2, 4, 7, 8, 10, 12, 14, 16, 18, 20) > (0, 3, 5, 7, 9, 11, 12, 14, 17, 19) \n",
       "(0, 2, 4, 6, 8, 10, 12, 14, 16, 18, 20) > (1, 3, 5, 6, 8, 11, 13, 15, 17, 19) \n",
       "(0, 2, 4, 6, 8, 10, 12, 14, 16, 19, 20) > (1, 3, 5, 6, 8, 11, 13, 15, 17, 19) \n",
       "(0, 2, 4, 7, 8, 10, 12, 14, 16, 18, 20) > (1, 3, 5, 6, 8, 11, 13, 15, 17, 19) \n",
       "(0, 2, 4, 6, 8, 10, 12, 14, 16, 18, 20) > (0, 2, 4, 6, 8, 10, 12, 14, 16, 19, 20) \n",
       "(0, 2, 4, 6, 8, 10, 12, 14, 16, 18, 20) > (0, 2, 5, 6, 8, 11, 12, 14, 17, 19) \n",
       "(0, 2, 4, 6, 8, 10, 12, 14, 16, 19, 20) > (0, 2, 5, 6, 8, 11, 12, 14, 17, 19) \n",
       "(0, 2, 4, 7, 8, 10, 12, 14, 16, 18, 20) > (0, 2, 4, 6, 8, 10, 12, 14, 16, 19, 20) \n",
       "(0, 2, 4, 7, 8, 10, 12, 14, 16, 18, 20) > (0, 2, 5, 6, 8, 11, 12, 14, 17, 19) "
      ]
     },
     "execution_count": 24,
     "metadata": {},
     "output_type": "execute_result"
    }
   ],
   "source": [
    "prf"
   ]
  },
  {
   "cell_type": "code",
   "execution_count": null,
   "id": "148daf41-a343-4a11-bcf8-ef8bcd8d33cd",
   "metadata": {},
   "outputs": [],
   "source": []
  }
 ],
 "metadata": {
  "kernelspec": {
   "display_name": "Python 3.7",
   "language": "python",
   "name": "py37"
  },
  "language_info": {
   "codemirror_mode": {
    "name": "ipython",
    "version": 3
   },
   "file_extension": ".py",
   "mimetype": "text/x-python",
   "name": "python",
   "nbconvert_exporter": "python",
   "pygments_lexer": "ipython3",
   "version": "3.7.12"
  }
 },
 "nbformat": 4,
 "nbformat_minor": 5
}
