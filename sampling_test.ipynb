{
 "cells": [
  {
   "cell_type": "code",
   "execution_count": 1,
   "id": "e6fb1b9b-2ccf-4b8e-abb1-4d3ea238e929",
   "metadata": {},
   "outputs": [],
   "source": [
    "from docplex.mp.model import Model\n",
    "from docplex.util.environment import get_environment\n",
    "from PMTK.sampling.preferences_sampler import *\n",
    "from PMTK.pref.preferences import *\n",
    "from PMTK.utility.utility_solver import *\n",
    "from PMTK.sampling.subset_samplers import *\n",
    "from PMTK.utility.model_solver import *\n",
    "from PMTK.utility.subset_finder import *\n",
    "from PMTK.sampling.gibbs import *\n",
    "from tqdm import tqdm\n",
    "import numpy as np\n",
    "import pandas as pd\n",
    "from PMTK.utility.candidate_iterator import *\n",
    "from PMTK.sampling.gibbs import *"
   ]
  },
  {
   "cell_type": "markdown",
   "id": "9b52c908-e7f3-408a-aa9c-e50dffa950d0",
   "metadata": {},
   "source": [
    "# Test on a pure visual example"
   ]
  },
  {
   "cell_type": "code",
   "execution_count": 2,
   "id": "6a6bbf9a-fa16-4034-957f-9b485c4fa5c5",
   "metadata": {},
   "outputs": [],
   "source": [
    "mdl = Model(\"Test\")\n",
    "x = mdl.continuous_var(name = \"x\")\n",
    "y = mdl.continuous_var(name = \"y\")\n",
    "cst = []\n",
    "c = mdl.add_constraint(y + x <= 5)\n",
    "c = mdl.add_constraint(x >= 0)\n",
    "c = mdl.add_constraint(x <= 3)\n",
    "c = mdl.add_constraint(y >= 0)\n",
    "mdl.vars = {\"x\":x, \"y\":y}"
   ]
  },
  {
   "cell_type": "code",
   "execution_count": 3,
   "id": "74383389-3ca5-45c3-b950-17790f8e6522",
   "metadata": {},
   "outputs": [
    {
     "data": {
      "image/png": "[encoded data removed]",
      "text/plain": [
       "<Figure size 432x288 with 1 Axes>"
      ]
     },
     "metadata": {
      "needs_background": "light"
     },
     "output_type": "display_data"
    }
   ],
   "source": [
    "points = sample_innter_points(mdl, mdl.vars, n_points=2000)\n",
    "\n",
    "X = np.arange(0, 8)\n",
    "y =  -X + 5\n",
    "plt.plot(X, y)\n",
    "plt.plot(np.zeros(y.shape) + 3, np.linspace(y.min(), y.max(), y.shape[0]))\n",
    "plt.plot(X, np.zeros(y.shape))\n",
    "plt.plot(np.zeros(y.shape), y)\n",
    "\n",
    "for c in points:\n",
    "    plt.scatter(c[0], c[1], color = \"red\",s = 5)\n"
   ]
  },
  {
   "cell_type": "markdown",
   "id": "ed92ffcc-3b0a-4702-a2b3-6246a47ead0d",
   "metadata": {},
   "source": [
    "# Test on a preferences-based example"
   ]
  },
  {
   "cell_type": "code",
   "execution_count": 4,
   "id": "d1a4912e-8fc5-4c57-be68-99ea4877bf38",
   "metadata": {},
   "outputs": [
    {
     "data": {
      "text/plain": [
       "() > (0,) \n",
       "() > (3,) \n",
       "() > (0, 1, 2) \n",
       "() > (0, 1) \n",
       "() > (0, 1, 3, 4) \n",
       "(0,) > (3,) \n",
       "(0,) > (0, 1, 2) \n",
       "(0,) > (0, 1) \n",
       "(0,) > (0, 1, 3, 4) \n",
       "(3,) > (0, 1, 2) \n",
       "(3,) > (0, 1) \n",
       "(3,) > (0, 1, 3, 4) \n",
       "(0, 1, 2) > (0, 1) \n",
       "(0, 1, 2) > (0, 1, 3, 4) \n",
       "(0, 1) = (0, 1, 3, 4) "
      ]
     },
     "execution_count": 4,
     "metadata": {},
     "output_type": "execute_result"
    }
   ],
   "source": [
    "n_items = 5\n",
    "density = 0.2\n",
    "items = np.arange(n_items)\n",
    "theta = get_all_k_sets(items, 4)\n",
    "prf = sample_preferences_from_order(items, density*(2**(n_items+1)), indifference_rate= 0.3)\n",
    "prf"
   ]
  },
  {
   "cell_type": "code",
   "execution_count": 13,
   "id": "9ac47c53-5ede-4143-af45-18d58c6e2f1c",
   "metadata": {},
   "outputs": [
    {
     "data": {
      "text/plain": [
       "{(0, 2, 3): 0,\n",
       " (3,): 0,\n",
       " (0, 1, 3): 0,\n",
       " (0, 1, 2, 3, 4): 0,\n",
       " (0, 2, 4): 0,\n",
       " (1, 3): 1,\n",
       " (0, 1, 2, 4): 1,\n",
       " (0, 4): 1,\n",
       " (0, 2): 2,\n",
       " (0, 3): 2}"
      ]
     },
     "execution_count": 13,
     "metadata": {},
     "output_type": "execute_result"
    }
   ],
   "source": [
    "ut, sb = sample_utilities(theta, prf)\n",
    "rank_by_deg(prf.items, ut, list(sb), 3)"
   ]
  },
  {
   "cell_type": "code",
   "execution_count": 15,
   "id": "13ad3b8c-9675-434a-b39f-14af1e6bc5ad",
   "metadata": {},
   "outputs": [],
   "source": [
    "subsets = sample_subsets(items, n_subsets = 10)\n",
    "e = entropy_matrix(subsets, ut, sb).sum(axis = 0)"
   ]
  },
  {
   "cell_type": "code",
   "execution_count": 22,
   "id": "e335ed32-cdcc-4a0f-9a5b-e1a9b527d09e",
   "metadata": {},
   "outputs": [
    {
     "data": {
      "text/plain": [
       "array([8, 2, 4, 9, 3, 6, 7, 1, 5, 0])"
      ]
     },
     "execution_count": 22,
     "metadata": {},
     "output_type": "execute_result"
    }
   ],
   "source": [
    "np.argsort(e)"
   ]
  },
  {
   "cell_type": "code",
   "execution_count": null,
   "id": "9ce4ad10-d436-4ecb-935e-038d958ca0ba",
   "metadata": {},
   "outputs": [],
   "source": []
  }
 ],
 "metadata": {
  "kernelspec": {
   "display_name": "Python 3.7",
   "language": "python",
   "name": "py37"
  },
  "language_info": {
   "codemirror_mode": {
    "name": "ipython",
    "version": 3
   },
   "file_extension": ".py",
   "mimetype": "text/x-python",
   "name": "python",
   "nbconvert_exporter": "python",
   "pygments_lexer": "ipython3",
   "version": "3.7.12"
  }
 },
 "nbformat": 4,
 "nbformat_minor": 5
}
